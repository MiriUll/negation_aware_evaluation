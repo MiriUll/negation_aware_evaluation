{
 "cells": [
  {
   "cell_type": "code",
   "execution_count": 14,
   "metadata": {
    "collapsed": true
   },
   "outputs": [
    {
     "ename": "ValueError",
     "evalue": "unequal length arrays",
     "output_type": "error",
     "traceback": [
      "\u001B[1;31m---------------------------------------------------------------------------\u001B[0m",
      "\u001B[1;31mValueError\u001B[0m                                Traceback (most recent call last)",
      "Cell \u001B[1;32mIn[14], line 21\u001B[0m\n\u001B[0;32m     15\u001B[0m new_score \u001B[38;5;241m=\u001B[39m new_score \u001B[38;5;241m*\u001B[39m \u001B[38;5;241m100\u001B[39m\n\u001B[0;32m     17\u001B[0m \u001B[38;5;66;03m# Perform two-sample t-test\u001B[39;00m\n\u001B[0;32m     18\u001B[0m \u001B[38;5;66;03m#t_stat, p_value = ttest_ind(old_scores, [new_score])\u001B[39;00m\n\u001B[0;32m     19\u001B[0m \u001B[38;5;66;03m#print(f\"t-statistic: {t_stat:.3f}\")\u001B[39;00m\n\u001B[0;32m     20\u001B[0m \u001B[38;5;66;03m#print(f\"p-value: {p_value:.3f}\")\u001B[39;00m\n\u001B[1;32m---> 21\u001B[0m \u001B[43mttest_rel\u001B[49m\u001B[43m(\u001B[49m\u001B[43mold_scores\u001B[49m\u001B[43m,\u001B[49m\u001B[43m \u001B[49m\u001B[43m[\u001B[49m\u001B[43mnew_score\u001B[49m\u001B[43m]\u001B[49m\u001B[43m)\u001B[49m\n",
      "File \u001B[1;32md:\\users\\miriam anschütz\\documents\\workspaces\\pycharm projects\\negation_aware_evaluation\\venv\\lib\\site-packages\\scipy\\stats\\_axis_nan_policy.py:502\u001B[0m, in \u001B[0;36m_axis_nan_policy_factory.<locals>.axis_nan_policy_decorator.<locals>.axis_nan_policy_wrapper\u001B[1;34m(***failed resolving arguments***)\u001B[0m\n\u001B[0;32m    500\u001B[0m \u001B[38;5;28;01mif\u001B[39;00m sentinel:\n\u001B[0;32m    501\u001B[0m     samples \u001B[38;5;241m=\u001B[39m _remove_sentinel(samples, paired, sentinel)\n\u001B[1;32m--> 502\u001B[0m res \u001B[38;5;241m=\u001B[39m hypotest_fun_out(\u001B[38;5;241m*\u001B[39msamples, \u001B[38;5;241m*\u001B[39m\u001B[38;5;241m*\u001B[39mkwds)\n\u001B[0;32m    503\u001B[0m res \u001B[38;5;241m=\u001B[39m result_to_tuple(res)\n\u001B[0;32m    504\u001B[0m res \u001B[38;5;241m=\u001B[39m _add_reduced_axes(res, reduced_axes, keepdims)\n",
      "File \u001B[1;32md:\\users\\miriam anschütz\\documents\\workspaces\\pycharm projects\\negation_aware_evaluation\\venv\\lib\\site-packages\\scipy\\stats\\_stats_py.py:7133\u001B[0m, in \u001B[0;36mttest_rel\u001B[1;34m(a, b, axis, nan_policy, alternative)\u001B[0m\n\u001B[0;32m   7131\u001B[0m nb \u001B[38;5;241m=\u001B[39m _get_len(b, axis, \u001B[38;5;124m\"\u001B[39m\u001B[38;5;124msecond argument\u001B[39m\u001B[38;5;124m\"\u001B[39m)\n\u001B[0;32m   7132\u001B[0m \u001B[38;5;28;01mif\u001B[39;00m na \u001B[38;5;241m!=\u001B[39m nb:\n\u001B[1;32m-> 7133\u001B[0m     \u001B[38;5;28;01mraise\u001B[39;00m \u001B[38;5;167;01mValueError\u001B[39;00m(\u001B[38;5;124m'\u001B[39m\u001B[38;5;124munequal length arrays\u001B[39m\u001B[38;5;124m'\u001B[39m)\n\u001B[0;32m   7135\u001B[0m \u001B[38;5;28;01mif\u001B[39;00m na \u001B[38;5;241m==\u001B[39m \u001B[38;5;241m0\u001B[39m \u001B[38;5;129;01mor\u001B[39;00m nb \u001B[38;5;241m==\u001B[39m \u001B[38;5;241m0\u001B[39m:\n\u001B[0;32m   7136\u001B[0m     \u001B[38;5;66;03m# _axis_nan_policy decorator ensures this only happens with 1d input\u001B[39;00m\n\u001B[0;32m   7137\u001B[0m     \u001B[38;5;28;01mreturn\u001B[39;00m TtestResult(np\u001B[38;5;241m.\u001B[39mnan, np\u001B[38;5;241m.\u001B[39mnan, df\u001B[38;5;241m=\u001B[39mnp\u001B[38;5;241m.\u001B[39mnan, alternative\u001B[38;5;241m=\u001B[39mnp\u001B[38;5;241m.\u001B[39mnan,\n\u001B[0;32m   7138\u001B[0m                        standard_error\u001B[38;5;241m=\u001B[39mnp\u001B[38;5;241m.\u001B[39mnan, estimate\u001B[38;5;241m=\u001B[39mnp\u001B[38;5;241m.\u001B[39mnan)\n",
      "\u001B[1;31mValueError\u001B[0m: unequal length arrays"
     ]
    }
   ],
   "source": [
    "# Significance test for antonym score\n",
    "\n",
    "import numpy as np\n",
    "from scipy.stats import ttest_rel\n",
    "\n",
    "# Old scores\n",
    "old_scores = np.array([0.043, 0.15, 0.088])#, 0.098, 0.14, 0.044, 0.054])\n",
    "#old_scores = np.array([0.058, 0.21, 0.15, 0.15, 0.16, 0.053, 0.067])\n",
    "\n",
    "# New score\n",
    "new_score = 0.252\n",
    "#new_score = 0.6135\n",
    "\n",
    "old_scores = old_scores * 100\n",
    "new_score = new_score * 100\n",
    "\n",
    "# Perform two-sample t-test\n",
    "#t_stat, p_value = ttest_ind(old_scores, [new_score])\n",
    "#print(f\"t-statistic: {t_stat:.3f}\")\n",
    "#print(f\"p-value: {p_value:.3f}\")\n",
    "ttest_rel(old_scores, [new_score])"
   ]
  },
  {
   "cell_type": "code",
   "execution_count": 7,
   "outputs": [
    {
     "name": "stdout",
     "output_type": "stream",
     "text": [
      "-0.005046185409119941 0.1923795187424533\n",
      "The improvement is significant.\n"
     ]
    }
   ],
   "source": [
    "import numpy as np\n",
    "from scipy.stats import t\n",
    "\n",
    "# Old scores\n",
    "old_scores = np.array([0.15, 0.043, 0.088])\n",
    "\n",
    "# New score\n",
    "new_score = 0.252\n",
    "\n",
    "# Calculate mean and standard deviation of old scores\n",
    "mean_old = np.mean(old_scores)\n",
    "std_old = np.std(old_scores, ddof=1)\n",
    "\n",
    "# Calculate t-value for 95% confidence interval with 3 degrees of freedom\n",
    "t_val = t.ppf(0.975, df=3)\n",
    "\n",
    "# Calculate confidence interval\n",
    "ci_low = mean_old - t_val * std_old / np.sqrt(len(old_scores))\n",
    "ci_high = mean_old + t_val * std_old / np.sqrt(len(old_scores))\n",
    "\n",
    "print(ci_low, ci_high)\n",
    "# Check if new score is outside of confidence interval\n",
    "if new_score < ci_low or new_score > ci_high:\n",
    "    print(\"The improvement is significant.\")\n",
    "else:\n",
    "    print(\"The improvement is not significant.\")"
   ],
   "metadata": {
    "collapsed": false,
    "pycharm": {
     "name": "#%%\n"
    }
   }
  },
  {
   "cell_type": "code",
   "execution_count": 12,
   "outputs": [
    {
     "name": "stdout",
     "output_type": "stream",
     "text": [
      "0.99\n"
     ]
    }
   ],
   "source": [
    "import numpy as np\n",
    "from itertools import combinations\n",
    "\n",
    "# Old scores\n",
    "#old_scores = np.array([0.043, 0.15, 0.088])#, 0.098, 0.14, 0.044, 0.054])\n",
    "old_scores = np.array([0.058, 0.21, 0.15, 0.15, 0.16, 0.053, 0.067])\n",
    "\n",
    "# New score\n",
    "#new_score = 0.252\n",
    "new_score = 0.6135\n",
    "# Concatenate old scores and new score\n",
    "all_scores = np.concatenate([old_scores, [new_score]])\n",
    "\n",
    "# Calculate observed difference\n",
    "obs_diff = np.mean(all_scores[:len(old_scores)]) - new_score\n",
    "\n",
    "# Permute labels and calculate difference many times\n",
    "n_perms = 100\n",
    "null_diffs = []\n",
    "for i in range(n_perms):\n",
    "    np.random.shuffle(all_scores)\n",
    "    null_diff = np.mean(all_scores[:len(old_scores)]) - all_scores[-1]\n",
    "    null_diffs.append(null_diff)\n",
    "\n",
    "# Calculate p-value\n",
    "p_value = sum(null_diffs >= obs_diff) / n_perms\n",
    "print(p_value)"
   ],
   "metadata": {
    "collapsed": false,
    "pycharm": {
     "name": "#%%\n"
    }
   }
  },
  {
   "cell_type": "code",
   "execution_count": 5,
   "outputs": [
    {
     "data": {
      "text/plain": "                 metric submetric  degree     value\n0       BLEURT-Base-128    BLEURT     0.0  0.899346\n1       BLEURT-Base-128    BLEURT     0.0  0.906679\n2       BLEURT-Base-128    BLEURT     0.0  0.927445\n3       BLEURT-Base-128    BLEURT     0.0  0.887990\n4       BLEURT-Base-128    BLEURT     0.0  0.866982\n...                 ...       ...     ...       ...\n388519  BLEURT-Base-128    BLEURT     1.0 -0.471479\n388520  BLEURT-Base-128    BLEURT     1.0 -0.628458\n388521  BLEURT-Base-128    BLEURT     1.0 -0.815982\n388522  BLEURT-Base-128    BLEURT     1.0 -0.580885\n388523  BLEURT-Base-128    BLEURT     1.0 -0.233947\n\n[388524 rows x 4 columns]",
      "text/html": "<div>\n<style scoped>\n    .dataframe tbody tr th:only-of-type {\n        vertical-align: middle;\n    }\n\n    .dataframe tbody tr th {\n        vertical-align: top;\n    }\n\n    .dataframe thead th {\n        text-align: right;\n    }\n</style>\n<table border=\"1\" class=\"dataframe\">\n  <thead>\n    <tr style=\"text-align: right;\">\n      <th></th>\n      <th>metric</th>\n      <th>submetric</th>\n      <th>degree</th>\n      <th>value</th>\n    </tr>\n  </thead>\n  <tbody>\n    <tr>\n      <th>0</th>\n      <td>BLEURT-Base-128</td>\n      <td>BLEURT</td>\n      <td>0.0</td>\n      <td>0.899346</td>\n    </tr>\n    <tr>\n      <th>1</th>\n      <td>BLEURT-Base-128</td>\n      <td>BLEURT</td>\n      <td>0.0</td>\n      <td>0.906679</td>\n    </tr>\n    <tr>\n      <th>2</th>\n      <td>BLEURT-Base-128</td>\n      <td>BLEURT</td>\n      <td>0.0</td>\n      <td>0.927445</td>\n    </tr>\n    <tr>\n      <th>3</th>\n      <td>BLEURT-Base-128</td>\n      <td>BLEURT</td>\n      <td>0.0</td>\n      <td>0.887990</td>\n    </tr>\n    <tr>\n      <th>4</th>\n      <td>BLEURT-Base-128</td>\n      <td>BLEURT</td>\n      <td>0.0</td>\n      <td>0.866982</td>\n    </tr>\n    <tr>\n      <th>...</th>\n      <td>...</td>\n      <td>...</td>\n      <td>...</td>\n      <td>...</td>\n    </tr>\n    <tr>\n      <th>388519</th>\n      <td>BLEURT-Base-128</td>\n      <td>BLEURT</td>\n      <td>1.0</td>\n      <td>-0.471479</td>\n    </tr>\n    <tr>\n      <th>388520</th>\n      <td>BLEURT-Base-128</td>\n      <td>BLEURT</td>\n      <td>1.0</td>\n      <td>-0.628458</td>\n    </tr>\n    <tr>\n      <th>388521</th>\n      <td>BLEURT-Base-128</td>\n      <td>BLEURT</td>\n      <td>1.0</td>\n      <td>-0.815982</td>\n    </tr>\n    <tr>\n      <th>388522</th>\n      <td>BLEURT-Base-128</td>\n      <td>BLEURT</td>\n      <td>1.0</td>\n      <td>-0.580885</td>\n    </tr>\n    <tr>\n      <th>388523</th>\n      <td>BLEURT-Base-128</td>\n      <td>BLEURT</td>\n      <td>1.0</td>\n      <td>-0.233947</td>\n    </tr>\n  </tbody>\n</table>\n<p>388524 rows × 4 columns</p>\n</div>"
     },
     "execution_count": 5,
     "metadata": {},
     "output_type": "execute_result"
    }
   ],
   "source": [
    "import pandas as pd\n",
    "import pickle\n",
    "\n",
    "with open(\"MetricsComparisonMaster\\.BLEURT2000_2023-05-10_11-32-10\\.dropped_words_results_data.p\", 'rb') as f:\n",
    "    tmp = pickle.load(f)\n",
    "tmp"
   ],
   "metadata": {
    "collapsed": false,
    "pycharm": {
     "name": "#%%\n"
    }
   }
  },
  {
   "cell_type": "code",
   "execution_count": 8,
   "outputs": [
    {
     "data": {
      "text/plain": "[<matplotlib.lines.Line2D at 0x1d851ff91e0>]"
     },
     "execution_count": 8,
     "metadata": {},
     "output_type": "execute_result"
    },
    {
     "data": {
      "text/plain": "<Figure size 640x480 with 1 Axes>",
      "image/png": "[encoded data removed]"
     },
     "metadata": {},
     "output_type": "display_data"
    }
   ],
   "source": [
    "import matplotlib.pyplot as plt\n",
    "\n",
    "plt.plot(tmp['value'])"
   ],
   "metadata": {
    "collapsed": false,
    "pycharm": {
     "name": "#%%\n"
    }
   }
  },
  {
   "cell_type": "code",
   "execution_count": 5,
   "outputs": [
    {
     "data": {
      "text/plain": "['AmazonPolarityClassification.json',\n 'ArxivClusteringP2P.json',\n 'BiorxivClusteringP2P.json',\n 'ImdbClassification.json',\n 'MedrxivClusteringP2P.json',\n 'RedditClusteringP2P.json',\n 'StackExchangeClusteringP2P.json',\n 'STS22.json',\n 'SummEval.json']"
     },
     "execution_count": 5,
     "metadata": {},
     "output_type": "execute_result"
    }
   ],
   "source": [
    "import os\n",
    "\n",
    "os.listdir(\"mteb_results_p2p\")"
   ],
   "metadata": {
    "collapsed": false,
    "pycharm": {
     "name": "#%%\n"
    }
   }
  },
  {
   "cell_type": "code",
   "execution_count": 6,
   "outputs": [],
   "source": [
    "classes = {\n",
    " 'AmazonCounterfactualClassification.json': \"Classification\",\n",
    " 'AmazonReviewsClassification.json': \"Classification\",\n",
    " 'ArxivClusteringS2S.json': \"Clustering\",\n",
    " 'AskUbuntuDupQuestions.json': \"Reranking\",\n",
    " 'Banking77Classification.json': \"Classification\",\n",
    " 'BiorxivClusteringS2S.json': \"Clustering\",\n",
    " 'BIOSSES.json': \"STS\",\n",
    " 'EmotionClassification.json': \"Classification\",\n",
    " 'MassiveIntentClassification.json': \"Classification\",\n",
    " 'MassiveScenarioClassification.json': \"Classification\",\n",
    " 'MedrxivClusteringS2S.json': \"Clustering\",\n",
    " 'MTOPDomainClassification.json': \"Classification\",\n",
    " 'MTOPIntentClassification.json': \"Classification\",\n",
    " 'RedditClustering.json': \"Clustering\",\n",
    " 'SciDocsRR.json': \"Reranking\",\n",
    " 'SICK-R.json': \"STS\",\n",
    " 'SprintDuplicateQuestions.json': \"PairClassification\",\n",
    " 'StackExchangeClustering.json': \"Clustering\",\n",
    " 'StackOverflowDupQuestions.json': \"Reranking\",\n",
    " 'STS12.json': \"STS\",\n",
    " 'STS13.json': \"STS\",\n",
    " 'STS14.json': \"STS\",\n",
    " 'STS15.json': \"STS\",\n",
    " 'STS16.json': \"STS\",\n",
    " 'STS17.json': \"STS\",\n",
    " 'STSBenchmark.json': \"STS\",\n",
    " 'ToxicConversationsClassification.json': \"Classification\",\n",
    " 'TweetSentimentExtractionClassification.json': \"Classification\",\n",
    " 'TwentyNewsgroupsClustering.json': \"Clustering\",\n",
    " 'TwitterSemEval2015.json': \"PairClassification\",\n",
    " 'TwitterURLCorpus.json': \"PairClassification\",\n",
    "\n",
    " # P2P tests\n",
    " 'AmazonPolarityClassification.json': \"Classification\",\n",
    " 'ArxivClusteringP2P.json': \"Clustering\",\n",
    " 'BiorxivClusteringP2P.json': \"Clustering\",\n",
    " 'ImdbClassification.json': \"Classification\",\n",
    " 'MedrxivClusteringP2P.json': \"Clustering\",\n",
    " 'RedditClusteringP2P.json': \"Clustering\",\n",
    " 'StackExchangeClusteringP2P.json': \"Clustering\",\n",
    " 'STS22.json': \"STS\",\n",
    " 'SummEval.json': \"Summarization\"\n",
    "}\n",
    "\n",
    "classification = [k for k,v in classes.items() if v ==\"Classification\"] # accuracy on test\n",
    "pairClassification = [k for k,v in classes.items() if v ==\"PairClassification\"] # accuracy on cos_sim test\n",
    "clustering = [k for k,v in classes.items() if v ==\"Clustering\"] #v_measure on test\n",
    "reranking = [k for k,v in classes.items() if v ==\"Reranking\"] # mrr on test\n",
    "sts = [k for k,v in classes.items() if v ==\"STS\"] # pearson on cos_sim test\n",
    "summarization = [k for k,v in classes.items() if v ==\"Summarization\"] # pearson on cos_sim test"
   ],
   "metadata": {
    "collapsed": false,
    "pycharm": {
     "name": "#%%\n"
    }
   }
  },
  {
   "cell_type": "code",
   "execution_count": 7,
   "outputs": [],
   "source": [
    "results = {\n",
    " 'AmazonCounterfactualClassification.json': 0.7395522388059701,\n",
    " 'AmazonReviewsClassification.json': 0.41854,\n",
    " 'ArxivClusteringS2S.json': 0.3791674025811335,\n",
    " 'AskUbuntuDupQuestions.json': 0.777055577540342,\n",
    " 'Banking77Classification.json': 0.842305194805195,\n",
    " 'BiorxivClusteringS2S.json': 0.3344806116771008,\n",
    " 'BIOSSES.json': 0.6304356600135357,\n",
    " 'EmotionClassification.json': 0.45975,\n",
    " 'MassiveIntentClassification.json': 0.7437794216543376,\n",
    " 'MassiveScenarioClassification.json':  0.7812037659717552,\n",
    " 'MedrxivClusteringS2S.json': 0.31482609844600595,\n",
    " 'MTOPDomainClassification.json': 0.933766529867761,\n",
    " 'MTOPIntentClassification.json': 0.7844961240310079,\n",
    " 'RedditClustering.json': 0.4430808821775702,\n",
    " 'SciDocsRR.json': 0.9624795502246483,\n",
    " 'SICK-R.json': 0.7737646550562759,\n",
    " 'SprintDuplicateQuestions.json': 0.9943663366336634,\n",
    " 'StackExchangeClustering.json': 0.49400904310882204,\n",
    " 'StackOverflowDupQuestions.json': 0.5269727209065443,\n",
    " 'STS12.json': 0.8181682949075203,\n",
    " 'STS13.json': 0.8421973736034891,\n",
    " 'STS14.json': 0.8131407435552415,\n",
    " 'STS15.json': 0.8408499212851743,\n",
    " 'STS16.json': 0.8100969277662133,\n",
    " 'STS17.json': 0.9102586980843879,\n",
    " 'STSBenchmark.json': 0.842081383253728,\n",
    " 'ToxicConversationsClassification.json':  0.661514,\n",
    " 'TweetSentimentExtractionClassification.json': 0.5898981324278438,\n",
    " 'TwentyNewsgroupsClustering.json': 0.4470279427441454,\n",
    " 'TwitterSemEval2015.json': 0.8683912499254932,\n",
    " 'TwitterURLCorpus.json': 0.8808747622928552,\n",
    "\n",
    " # P2P tests\n",
    " 'AmazonPolarityClassification.json': 0.8609557500000001,\n",
    " 'ArxivClusteringP2P.json': 0.4252841699630186,\n",
    " 'BiorxivClusteringP2P.json': 0.3369688357037039,\n",
    " 'ImdbClassification.json': 0.684012,\n",
    " 'MedrxivClusteringP2P.json': 0.2997059306342652,\n",
    " 'RedditClusteringP2P.json': 0.4542804471149494,\n",
    " 'StackExchangeClusteringP2P.json': 0.3014430241515743,\n",
    " 'STS22.json': 0.5920188409985625,\n",
    " 'SummEval.json': 0.28095066943386976\n",
    "}"
   ],
   "metadata": {
    "collapsed": false,
    "pycharm": {
     "name": "#%%\n"
    }
   }
  },
  {
   "cell_type": "code",
   "execution_count": 8,
   "outputs": [
    {
     "name": "stdout",
     "output_type": "stream",
     "text": [
      "** Classification\n",
      "Num datasets: 12\n",
      "Avg. score 0.7083144297969892\n",
      "** PairClassification\n",
      "Num datasets: 3\n",
      "Avg. score 0.914544116284004\n",
      "** Clustering\n",
      "Num datasets: 11\n",
      "Avg. score 0.3845703989365717\n",
      "** Reranking\n",
      "Num datasets: 3\n",
      "Avg. score 0.7555026162238448\n",
      "** STS\n",
      "Num datasets: 10\n",
      "Avg. score 0.7873012498524128\n",
      "** Summarization\n",
      "Num datasets: 1\n",
      "Avg. score 0.28095066943386976\n"
     ]
    }
   ],
   "source": [
    "def calc_mean_res(group):\n",
    " res = [results[x] for x in group]\n",
    " print(f\"Num datasets: {len(res)}\")\n",
    " print(f\"Avg. score {(sum(res)/len(res))}\")\n",
    "\n",
    "print(\"** Classification\")\n",
    "calc_mean_res(classification)\n",
    "print(\"** PairClassification\")\n",
    "calc_mean_res(pairClassification)\n",
    "print(\"** Clustering\")\n",
    "calc_mean_res(clustering)\n",
    "print(\"** Reranking\")\n",
    "calc_mean_res(reranking)\n",
    "print(\"** STS\")\n",
    "calc_mean_res(sts)\n",
    "print(\"** Summarization\")\n",
    "calc_mean_res(summarization)"
   ],
   "metadata": {
    "collapsed": false,
    "pycharm": {
     "name": "#%%\n"
    }
   }
  },
  {
   "cell_type": "code",
   "execution_count": 9,
   "outputs": [
    {
     "data": {
      "text/plain": "0.6473537727836925"
     },
     "execution_count": 9,
     "metadata": {},
     "output_type": "execute_result"
    }
   ],
   "source": [
    "sum(results.values())/len(results.values())"
   ],
   "metadata": {
    "collapsed": false,
    "pycharm": {
     "name": "#%%\n"
    }
   }
  },
  {
   "cell_type": "code",
   "execution_count": null,
   "outputs": [],
   "source": [],
   "metadata": {
    "collapsed": false,
    "pycharm": {
     "name": "#%%\n"
    }
   }
  }
 ],
 "metadata": {
  "kernelspec": {
   "display_name": "Python 3",
   "language": "python",
   "name": "python3"
  },
  "language_info": {
   "codemirror_mode": {
    "name": "ipython",
    "version": 2
   },
   "file_extension": ".py",
   "mimetype": "text/x-python",
   "name": "python",
   "nbconvert_exporter": "python",
   "pygments_lexer": "ipython2",
   "version": "2.7.6"
  }
 },
 "nbformat": 4,
 "nbformat_minor": 0
}