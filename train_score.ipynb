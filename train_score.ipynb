{
 "cells": [
  {
   "cell_type": "code",
   "execution_count": 12,
   "metadata": {
    "collapsed": true,
    "pycharm": {
     "name": "#%%\n"
    }
   },
   "outputs": [],
   "source": [
    "import pandas as pd"
   ]
  },
  {
   "cell_type": "code",
   "execution_count": 16,
   "outputs": [
    {
     "data": {
      "text/plain": "           lp                                                src  \\\n0       zh-en                        新华时评：把优秀返乡农民工打造成乡村振兴生力军-新华网   \n1       zh-en                                        乡村振兴，人才是关键。   \n2       zh-en                                             人才哪里找？   \n3       zh-en                                优秀返乡农民工群体是不可或缺的生力军。   \n4       zh-en                                         新华社发 商海春 作   \n...       ...                                                ...   \n112599  ru-en  Главная героиня ленты - переводчица при миссии...   \n112600  ru-en  Что до драмы \"Разжимая кулаки\", снятой Кирой К...   \n112601  ru-en  Ранее было объявлено, что этот фильм номиниров...   \n112602  ru-en  Как показывают регулярные дружеские встречи пр...   \n112603  ru-en  Только вчера президент Азербайджана одобрил от...   \n\n                                                       mt  \\\n0       Xinhua Commentary: Making Excellent Returning ...   \n1              Talent is the key to rural revitalization.   \n2                                Where can I find talent?   \n3       The group of outstanding returning migrant wor...   \n4                         Hai Chunzuo, Xinhua News Agency   \n...                                                   ...   \n112599  The main character of the tape is a translator...   \n112600  As for the drama \"Unclenching Fists,\" filmed b...   \n112601  It was previously announced that the film was ...   \n112602  As the regular friendly meetings of the Presid...   \n112603  Only yesterday, the President of Azerbaijan ap...   \n\n                                                      ref     score   raw  \\\n0       Xinhua Commentary: Outstanding returning rural... -0.086212  88.0   \n1              Talent is the key to rural revitalization.  0.244415  92.0   \n2                                  Where is talent found? -0.995434  77.0   \n3       Outstanding returning rural migrant workers ar...  0.409728  94.0   \n4       Published by Xinhua News Agency Author: Shang ...  0.492384  95.0   \n...                                                   ...       ...   ...   \n112599  The female lead of the movie is a UN translato... -0.077652  66.5   \n112600  As for the drama \"Unclenching the Fists\", film...  1.142646  99.5   \n112601  It was previously announced that the movie is ... -0.144525  68.0   \n112602  As shown by the regular friendly meetings amon...  0.414980  79.0   \n112603  Just yesterday the president of Azerbaijan app...  0.100963  72.0   \n\n        annotators  domain  \n0                1    news  \n1                1    news  \n2                1    news  \n3                1    news  \n4                1    news  \n...            ...     ...  \n112599           1    news  \n112600           1    news  \n112601           1    news  \n112602           1  social  \n112603           1  social  \n\n[347035 rows x 8 columns]",
      "text/html": "<div>\n<style scoped>\n    .dataframe tbody tr th:only-of-type {\n        vertical-align: middle;\n    }\n\n    .dataframe tbody tr th {\n        vertical-align: top;\n    }\n\n    .dataframe thead th {\n        text-align: right;\n    }\n</style>\n<table border=\"1\" class=\"dataframe\">\n  <thead>\n    <tr style=\"text-align: right;\">\n      <th></th>\n      <th>lp</th>\n      <th>src</th>\n      <th>mt</th>\n      <th>ref</th>\n      <th>score</th>\n      <th>raw</th>\n      <th>annotators</th>\n      <th>domain</th>\n    </tr>\n  </thead>\n  <tbody>\n    <tr>\n      <th>0</th>\n      <td>zh-en</td>\n      <td>新华时评：把优秀返乡农民工打造成乡村振兴生力军-新华网</td>\n      <td>Xinhua Commentary: Making Excellent Returning ...</td>\n      <td>Xinhua Commentary: Outstanding returning rural...</td>\n      <td>-0.086212</td>\n      <td>88.0</td>\n      <td>1</td>\n      <td>news</td>\n    </tr>\n    <tr>\n      <th>1</th>\n      <td>zh-en</td>\n      <td>乡村振兴，人才是关键。</td>\n      <td>Talent is the key to rural revitalization.</td>\n      <td>Talent is the key to rural revitalization.</td>\n      <td>0.244415</td>\n      <td>92.0</td>\n      <td>1</td>\n      <td>news</td>\n    </tr>\n    <tr>\n      <th>2</th>\n      <td>zh-en</td>\n      <td>人才哪里找？</td>\n      <td>Where can I find talent?</td>\n      <td>Where is talent found?</td>\n      <td>-0.995434</td>\n      <td>77.0</td>\n      <td>1</td>\n      <td>news</td>\n    </tr>\n    <tr>\n      <th>3</th>\n      <td>zh-en</td>\n      <td>优秀返乡农民工群体是不可或缺的生力军。</td>\n      <td>The group of outstanding returning migrant wor...</td>\n      <td>Outstanding returning rural migrant workers ar...</td>\n      <td>0.409728</td>\n      <td>94.0</td>\n      <td>1</td>\n      <td>news</td>\n    </tr>\n    <tr>\n      <th>4</th>\n      <td>zh-en</td>\n      <td>新华社发 商海春 作</td>\n      <td>Hai Chunzuo, Xinhua News Agency</td>\n      <td>Published by Xinhua News Agency Author: Shang ...</td>\n      <td>0.492384</td>\n      <td>95.0</td>\n      <td>1</td>\n      <td>news</td>\n    </tr>\n    <tr>\n      <th>...</th>\n      <td>...</td>\n      <td>...</td>\n      <td>...</td>\n      <td>...</td>\n      <td>...</td>\n      <td>...</td>\n      <td>...</td>\n      <td>...</td>\n    </tr>\n    <tr>\n      <th>112599</th>\n      <td>ru-en</td>\n      <td>Главная героиня ленты - переводчица при миссии...</td>\n      <td>The main character of the tape is a translator...</td>\n      <td>The female lead of the movie is a UN translato...</td>\n      <td>-0.077652</td>\n      <td>66.5</td>\n      <td>1</td>\n      <td>news</td>\n    </tr>\n    <tr>\n      <th>112600</th>\n      <td>ru-en</td>\n      <td>Что до драмы \"Разжимая кулаки\", снятой Кирой К...</td>\n      <td>As for the drama \"Unclenching Fists,\" filmed b...</td>\n      <td>As for the drama \"Unclenching the Fists\", film...</td>\n      <td>1.142646</td>\n      <td>99.5</td>\n      <td>1</td>\n      <td>news</td>\n    </tr>\n    <tr>\n      <th>112601</th>\n      <td>ru-en</td>\n      <td>Ранее было объявлено, что этот фильм номиниров...</td>\n      <td>It was previously announced that the film was ...</td>\n      <td>It was previously announced that the movie is ...</td>\n      <td>-0.144525</td>\n      <td>68.0</td>\n      <td>1</td>\n      <td>news</td>\n    </tr>\n    <tr>\n      <th>112602</th>\n      <td>ru-en</td>\n      <td>Как показывают регулярные дружеские встречи пр...</td>\n      <td>As the regular friendly meetings of the Presid...</td>\n      <td>As shown by the regular friendly meetings amon...</td>\n      <td>0.414980</td>\n      <td>79.0</td>\n      <td>1</td>\n      <td>social</td>\n    </tr>\n    <tr>\n      <th>112603</th>\n      <td>ru-en</td>\n      <td>Только вчера президент Азербайджана одобрил от...</td>\n      <td>Only yesterday, the President of Azerbaijan ap...</td>\n      <td>Just yesterday the president of Azerbaijan app...</td>\n      <td>0.100963</td>\n      <td>72.0</td>\n      <td>1</td>\n      <td>social</td>\n    </tr>\n  </tbody>\n</table>\n<p>347035 rows × 8 columns</p>\n</div>"
     },
     "execution_count": 16,
     "metadata": {},
     "output_type": "execute_result"
    }
   ],
   "source": [
    "wmt21 = pd.read_csv(\"wmt_data/2021-da.csv\")\n",
    "wmt22 = pd.read_csv(\"wmt_data/2022-da.csv\")\n",
    "data_wmt = pd.concat([wmt21, wmt22])\n",
    "data_wmt"
   ],
   "metadata": {
    "collapsed": false,
    "pycharm": {
     "name": "#%%\n"
    }
   }
  },
  {
   "cell_type": "code",
   "execution_count": 17,
   "outputs": [
    {
     "data": {
      "text/plain": "           lp                                                src  \\\n0       zh-en                        新华时评：把优秀返乡农民工打造成乡村振兴生力军-新华网   \n1       zh-en                                        乡村振兴，人才是关键。   \n2       zh-en                                             人才哪里找？   \n3       zh-en                                优秀返乡农民工群体是不可或缺的生力军。   \n4       zh-en                                         新华社发 商海春 作   \n...       ...                                                ...   \n112599  ru-en  Главная героиня ленты - переводчица при миссии...   \n112600  ru-en  Что до драмы \"Разжимая кулаки\", снятой Кирой К...   \n112601  ru-en  Ранее было объявлено, что этот фильм номиниров...   \n112602  ru-en  Как показывают регулярные дружеские встречи пр...   \n112603  ru-en  Только вчера президент Азербайджана одобрил от...   \n\n                                                       mt  \\\n0       Xinhua Commentary: Making Excellent Returning ...   \n1              Talent is the key to rural revitalization.   \n2                                Where can I find talent?   \n3       The group of outstanding returning migrant wor...   \n4                         Hai Chunzuo, Xinhua News Agency   \n...                                                   ...   \n112599  The main character of the tape is a translator...   \n112600  As for the drama \"Unclenching Fists,\" filmed b...   \n112601  It was previously announced that the film was ...   \n112602  As the regular friendly meetings of the Presid...   \n112603  Only yesterday, the President of Azerbaijan ap...   \n\n                                                      ref     score   raw  \\\n0       Xinhua Commentary: Outstanding returning rural... -0.086212  88.0   \n1              Talent is the key to rural revitalization.  0.244415  92.0   \n2                                  Where is talent found? -0.995434  77.0   \n3       Outstanding returning rural migrant workers ar...  0.409728  94.0   \n4       Published by Xinhua News Agency Author: Shang ...  0.492384  95.0   \n...                                                   ...       ...   ...   \n112599  The female lead of the movie is a UN translato... -0.077652  66.5   \n112600  As for the drama \"Unclenching the Fists\", film...  1.142646  99.5   \n112601  It was previously announced that the movie is ... -0.144525  68.0   \n112602  As shown by the regular friendly meetings amon...  0.414980  79.0   \n112603  Just yesterday the president of Azerbaijan app...  0.100963  72.0   \n\n        annotators  domain  \n0                1    news  \n1                1    news  \n2                1    news  \n3                1    news  \n4                1    news  \n...            ...     ...  \n112599           1    news  \n112600           1    news  \n112601           1    news  \n112602           1  social  \n112603           1  social  \n\n[219865 rows x 8 columns]",
      "text/html": "<div>\n<style scoped>\n    .dataframe tbody tr th:only-of-type {\n        vertical-align: middle;\n    }\n\n    .dataframe tbody tr th {\n        vertical-align: top;\n    }\n\n    .dataframe thead th {\n        text-align: right;\n    }\n</style>\n<table border=\"1\" class=\"dataframe\">\n  <thead>\n    <tr style=\"text-align: right;\">\n      <th></th>\n      <th>lp</th>\n      <th>src</th>\n      <th>mt</th>\n      <th>ref</th>\n      <th>score</th>\n      <th>raw</th>\n      <th>annotators</th>\n      <th>domain</th>\n    </tr>\n  </thead>\n  <tbody>\n    <tr>\n      <th>0</th>\n      <td>zh-en</td>\n      <td>新华时评：把优秀返乡农民工打造成乡村振兴生力军-新华网</td>\n      <td>Xinhua Commentary: Making Excellent Returning ...</td>\n      <td>Xinhua Commentary: Outstanding returning rural...</td>\n      <td>-0.086212</td>\n      <td>88.0</td>\n      <td>1</td>\n      <td>news</td>\n    </tr>\n    <tr>\n      <th>1</th>\n      <td>zh-en</td>\n      <td>乡村振兴，人才是关键。</td>\n      <td>Talent is the key to rural revitalization.</td>\n      <td>Talent is the key to rural revitalization.</td>\n      <td>0.244415</td>\n      <td>92.0</td>\n      <td>1</td>\n      <td>news</td>\n    </tr>\n    <tr>\n      <th>2</th>\n      <td>zh-en</td>\n      <td>人才哪里找？</td>\n      <td>Where can I find talent?</td>\n      <td>Where is talent found?</td>\n      <td>-0.995434</td>\n      <td>77.0</td>\n      <td>1</td>\n      <td>news</td>\n    </tr>\n    <tr>\n      <th>3</th>\n      <td>zh-en</td>\n      <td>优秀返乡农民工群体是不可或缺的生力军。</td>\n      <td>The group of outstanding returning migrant wor...</td>\n      <td>Outstanding returning rural migrant workers ar...</td>\n      <td>0.409728</td>\n      <td>94.0</td>\n      <td>1</td>\n      <td>news</td>\n    </tr>\n    <tr>\n      <th>4</th>\n      <td>zh-en</td>\n      <td>新华社发 商海春 作</td>\n      <td>Hai Chunzuo, Xinhua News Agency</td>\n      <td>Published by Xinhua News Agency Author: Shang ...</td>\n      <td>0.492384</td>\n      <td>95.0</td>\n      <td>1</td>\n      <td>news</td>\n    </tr>\n    <tr>\n      <th>...</th>\n      <td>...</td>\n      <td>...</td>\n      <td>...</td>\n      <td>...</td>\n      <td>...</td>\n      <td>...</td>\n      <td>...</td>\n      <td>...</td>\n    </tr>\n    <tr>\n      <th>112599</th>\n      <td>ru-en</td>\n      <td>Главная героиня ленты - переводчица при миссии...</td>\n      <td>The main character of the tape is a translator...</td>\n      <td>The female lead of the movie is a UN translato...</td>\n      <td>-0.077652</td>\n      <td>66.5</td>\n      <td>1</td>\n      <td>news</td>\n    </tr>\n    <tr>\n      <th>112600</th>\n      <td>ru-en</td>\n      <td>Что до драмы \"Разжимая кулаки\", снятой Кирой К...</td>\n      <td>As for the drama \"Unclenching Fists,\" filmed b...</td>\n      <td>As for the drama \"Unclenching the Fists\", film...</td>\n      <td>1.142646</td>\n      <td>99.5</td>\n      <td>1</td>\n      <td>news</td>\n    </tr>\n    <tr>\n      <th>112601</th>\n      <td>ru-en</td>\n      <td>Ранее было объявлено, что этот фильм номиниров...</td>\n      <td>It was previously announced that the film was ...</td>\n      <td>It was previously announced that the movie is ...</td>\n      <td>-0.144525</td>\n      <td>68.0</td>\n      <td>1</td>\n      <td>news</td>\n    </tr>\n    <tr>\n      <th>112602</th>\n      <td>ru-en</td>\n      <td>Как показывают регулярные дружеские встречи пр...</td>\n      <td>As the regular friendly meetings of the Presid...</td>\n      <td>As shown by the regular friendly meetings amon...</td>\n      <td>0.414980</td>\n      <td>79.0</td>\n      <td>1</td>\n      <td>social</td>\n    </tr>\n    <tr>\n      <th>112603</th>\n      <td>ru-en</td>\n      <td>Только вчера президент Азербайджана одобрил от...</td>\n      <td>Only yesterday, the President of Azerbaijan ap...</td>\n      <td>Just yesterday the president of Azerbaijan app...</td>\n      <td>0.100963</td>\n      <td>72.0</td>\n      <td>1</td>\n      <td>social</td>\n    </tr>\n  </tbody>\n</table>\n<p>219865 rows × 8 columns</p>\n</div>"
     },
     "execution_count": 17,
     "metadata": {},
     "output_type": "execute_result"
    }
   ],
   "source": [
    "data_wmt = data_wmt[data_wmt.lp.str.endswith('-en')]\n",
    "data_wmt"
   ],
   "metadata": {
    "collapsed": false,
    "pycharm": {
     "name": "#%%\n"
    }
   }
  },
  {
   "cell_type": "code",
   "execution_count": 34,
   "outputs": [],
   "source": [
    "from pathlib import Path\n",
    "import torch\n",
    "from sentence_transformers import models, losses, datasets\n",
    "from sentence_transformers import LoggingHandler, SentenceTransformer, util, InputExample\n",
    "from sentence_transformers.evaluation import EmbeddingSimilarityEvaluator\n",
    "import pandas as pd\n",
    "from tqdm import tqdm\n",
    "from datasets import Dataset, DatasetDict\n",
    "import numpy as np\n",
    "from sklearn.svm import SVR\n",
    "from sklearn.metrics import mean_squared_error"
   ],
   "metadata": {
    "collapsed": false,
    "pycharm": {
     "name": "#%%\n"
    }
   }
  },
  {
   "cell_type": "code",
   "execution_count": 40,
   "outputs": [
    {
     "name": "stdout",
     "output_type": "stream",
     "text": [
      "cuda:0\n"
     ]
    },
    {
     "data": {
      "text/plain": "SentenceTransformer(\n  (0): Transformer({'max_seq_length': 75, 'do_lower_case': False}) with Transformer model: MPNetModel \n  (1): Pooling({'word_embedding_dimension': 768, 'pooling_mode_cls_token': False, 'pooling_mode_mean_tokens': True, 'pooling_mode_max_tokens': False, 'pooling_mode_mean_sqrt_len_tokens': False})\n)"
     },
     "execution_count": 40,
     "metadata": {},
     "output_type": "execute_result"
    }
   ],
   "source": [
    "timestamp = \"2023-02-17_15-02-13\"\n",
    "project_base_path = Path(\"Guided Research WS22\")\n",
    "negation_dataset = project_base_path / \"data/negation_dataset_labeled.tsv\"\n",
    "\n",
    "base_model = \"sentence-transformers/all-mpnet-base-v2\"\n",
    "output_model_name = f\"{base_model.split('/')[1]}-negation\"  # TODO.\n",
    "model_save_path = str(project_base_path / f\"finetuned-models/{timestamp}/{output_model_name}\")\n",
    "sentence_model = SentenceTransformer(model_save_path)\n",
    "\n",
    "device = \"cuda:0\" if torch.cuda.is_available() else \"cpu\"\n",
    "print(device)\n",
    "sentence_model.to(device)"
   ],
   "metadata": {
    "collapsed": false,
    "pycharm": {
     "name": "#%%\n"
    }
   }
  },
  {
   "cell_type": "code",
   "execution_count": 33,
   "outputs": [
    {
     "name": "stdout",
     "output_type": "stream",
     "text": [
      "DatasetDict({\n",
      "    train: Dataset({\n",
      "        features: ['mt', 'ref', 'label'],\n",
      "        num_rows: 175892\n",
      "    })\n",
      "    eval: Dataset({\n",
      "        features: ['mt', 'ref', 'label'],\n",
      "        num_rows: 21986\n",
      "    })\n",
      "    test: Dataset({\n",
      "        features: ['mt', 'ref', 'label'],\n",
      "        num_rows: 21987\n",
      "    })\n",
      "})\n"
     ]
    }
   ],
   "source": [
    "data_wmt = data_wmt.rename(columns={\"score\":\"label\"})\n",
    "data_wmt = data_wmt.sample(frac=1).reset_index(drop=True)\n",
    "df = data_wmt[[\"mt\", \"ref\", \"label\"]]\n",
    "dataset_unsplit = Dataset.from_pandas(df)  # no need to shuffle (data already shuffled)\n",
    "\n",
    "# Split dataset into train-eval-test (80-10-10)\n",
    "# HuggingFace doesn't provide a straightforward way of doing this,\n",
    "# see https://discuss.huggingface.co/t/how-to-split-main-dataset-into-train-dev-test-as-datasetdict\n",
    "dataset_train = dataset_unsplit.train_test_split(test_size=0.2)\n",
    "dataset_eval_test = dataset_train[\"test\"].train_test_split(test_size=0.5)\n",
    "\n",
    "dataset = DatasetDict(\n",
    "    train=dataset_train[\"train\"],\n",
    "    eval=dataset_eval_test[\"train\"],  # not a typo!\n",
    "    test=dataset_eval_test[\"test\"]\n",
    ")\n",
    "\n",
    "print(dataset)\n",
    "\n",
    "assert dataset_unsplit.num_rows == (dataset[\"train\"].num_rows + dataset[\"eval\"].num_rows + dataset[\"test\"].num_rows)\n",
    "assert dataset[\"train\"][:10] != dataset[\"eval\"][:10] \\\n",
    "       and dataset[\"train\"][:10] != dataset[\"test\"][:10] \\\n",
    "       and dataset[\"eval\"][:10] != dataset[\"test\"][:10]"
   ],
   "metadata": {
    "collapsed": false,
    "pycharm": {
     "name": "#%%\n"
    }
   }
  },
  {
   "cell_type": "code",
   "execution_count": 32,
   "outputs": [],
   "source": [
    "class ScoreModel(torch.nn.Module):\n",
    "    def __init__(self, sentence_model:SentenceTransformer):\n",
    "        super().__init__()\n",
    "        self.sent_encoder = sentence_model\n",
    "        self.predictor = torch.nn.Linear(2*768, 1)\n",
    "\n",
    "    def forward(self, candidates, references):\n",
    "        cand_emd = self.sent_encoder.encode(candidates)\n",
    "        ref_emb = self.sent_encoder.encode(references)\n",
    "        embeddings = torch.cat([cand_emd, ref_emb])\n",
    "        return self.predictor(embeddings)\n",
    "\n",
    "model = ScoreModel(sentence_model)"
   ],
   "metadata": {
    "collapsed": false,
    "pycharm": {
     "name": "#%%\n"
    }
   }
  },
  {
   "cell_type": "code",
   "execution_count": 47,
   "outputs": [
    {
     "name": "stdout",
     "output_type": "stream",
     "text": [
      "(175892, 1536)\n"
     ]
    }
   ],
   "source": [
    "X_train_mt = sentence_model.encode(dataset['train']['mt'])\n",
    "X_train_ref = sentence_model.encode(dataset['train']['ref'])\n",
    "X_train_vec = np.concatenate([X_train_mt, X_train_mt], axis=1)\n",
    "print(X_train_vec.shape)\n",
    "\n",
    "X_eval_mt = sentence_model.encode(dataset['eval']['mt'])\n",
    "X_eval_ref = sentence_model.encode(dataset['eval']['ref'])\n",
    "X_eval_vec = np.concatenate([X_eval_mt, X_eval_mt], axis=1)\n",
    "\n",
    "X_test_mt = sentence_model.encode(dataset['test']['mt'])\n",
    "X_test_ref = sentence_model.encode(dataset['test']['ref'])\n",
    "X_test_vec = np.concatenate([X_test_mt, X_test_mt], axis=1)"
   ],
   "metadata": {
    "collapsed": false,
    "pycharm": {
     "name": "#%%\n"
    }
   }
  },
  {
   "cell_type": "code",
   "execution_count": null,
   "outputs": [],
   "source": [
    "clf = SVR()\n",
    "clf.fit(X_train_vec, dataset['train']['label'])\n",
    "\n",
    "labels_pred = clf.predict(X_train_vec)\n",
    "print(\"MSE train:\", mean_squared_error(dataset['train']['label'], labels_pred))\n",
    "\n",
    "labels_pred_eval = clf.predict(X_eval_vec)\n",
    "print(\"MSE eval:\", mean_squared_error(dataset['eval']['label'], labels_pred_eval))"
   ],
   "metadata": {
    "collapsed": false,
    "pycharm": {
     "name": "#%%\n",
     "is_executing": true
    }
   }
  }
 ],
 "metadata": {
  "kernelspec": {
   "display_name": "Python 3",
   "language": "python",
   "name": "python3"
  },
  "language_info": {
   "codemirror_mode": {
    "name": "ipython",
    "version": 2
   },
   "file_extension": ".py",
   "mimetype": "text/x-python",
   "name": "python",
   "nbconvert_exporter": "python",
   "pygments_lexer": "ipython2",
   "version": "2.7.6"
  }
 },
 "nbformat": 4,
 "nbformat_minor": 0
}