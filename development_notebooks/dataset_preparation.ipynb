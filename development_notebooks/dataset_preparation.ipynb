{
 "cells": [
  {
   "cell_type": "code",
   "execution_count": 5,
   "metadata": {
    "collapsed": true,
    "pycharm": {
     "name": "#%%\n"
    }
   },
   "outputs": [],
   "source": [
    "import pandas as pd\n",
    "from datasets import Dataset, DatasetDict\n",
    "import numpy as np"
   ]
  },
  {
   "cell_type": "code",
   "execution_count": 22,
   "outputs": [
    {
     "data": {
      "text/plain": "         lang                                          candidate  \\\n19410   ps-en  Let's search for the joint points between Hind...   \n19411   ps-en  By coming home, the waiting room is full of Je...   \n19412   ps-en  Adjustment of all the economy, and to eradicat...   \n19413   ps-en  This structure is made of group wounds, with t...   \n19414   ps-en  On this night, they published a radio and Bara...   \n...       ...                                                ...   \n240084  zh-en  On September 27, 27th, Vietnam Shield vs. US D...   \n240085  zh-en  With Exchange rate fluctuations at + /-3 today...   \n240086  zh-en  The Bank's buying price and selling bid for rm...   \n240087  zh-en  Techcombank of Vietnam (Techcombank) has set t...   \n240088  zh-en  The Bank's buying price and selling bid for rm...   \n\n                                                reference     score  \n19410   Let's analyse the differences between Hinduism... -2.125683  \n19411   Upon arrival at home, the waiting room would b... -1.136993  \n19412   The assessment of global economy and eradicati... -0.148303  \n19413   This structure is organized into a hierarchy o... -0.108756  \n19414   On the same night a Soviet radio station aired... -1.117219  \n...                                                   ...       ...  \n240084  The central parity rate of Vietnamese dong aga... -0.411959  \n240085  Under the circumstance of an exchange rate flu...  0.759167  \n240086  The bank has a buying rate at 3,211 dong per C... -2.022257  \n240087  Techcombank adjusted the buying and selling ra... -2.754210  \n240088  The bank has a buying rate at 3,193 dong per C...  0.173604  \n\n[136888 rows x 4 columns]",
      "text/html": "<div>\n<style scoped>\n    .dataframe tbody tr th:only-of-type {\n        vertical-align: middle;\n    }\n\n    .dataframe tbody tr th {\n        vertical-align: top;\n    }\n\n    .dataframe thead th {\n        text-align: right;\n    }\n</style>\n<table border=\"1\" class=\"dataframe\">\n  <thead>\n    <tr style=\"text-align: right;\">\n      <th></th>\n      <th>lang</th>\n      <th>candidate</th>\n      <th>reference</th>\n      <th>score</th>\n    </tr>\n  </thead>\n  <tbody>\n    <tr>\n      <th>19410</th>\n      <td>ps-en</td>\n      <td>Let's search for the joint points between Hind...</td>\n      <td>Let's analyse the differences between Hinduism...</td>\n      <td>-2.125683</td>\n    </tr>\n    <tr>\n      <th>19411</th>\n      <td>ps-en</td>\n      <td>By coming home, the waiting room is full of Je...</td>\n      <td>Upon arrival at home, the waiting room would b...</td>\n      <td>-1.136993</td>\n    </tr>\n    <tr>\n      <th>19412</th>\n      <td>ps-en</td>\n      <td>Adjustment of all the economy, and to eradicat...</td>\n      <td>The assessment of global economy and eradicati...</td>\n      <td>-0.148303</td>\n    </tr>\n    <tr>\n      <th>19413</th>\n      <td>ps-en</td>\n      <td>This structure is made of group wounds, with t...</td>\n      <td>This structure is organized into a hierarchy o...</td>\n      <td>-0.108756</td>\n    </tr>\n    <tr>\n      <th>19414</th>\n      <td>ps-en</td>\n      <td>On this night, they published a radio and Bara...</td>\n      <td>On the same night a Soviet radio station aired...</td>\n      <td>-1.117219</td>\n    </tr>\n    <tr>\n      <th>...</th>\n      <td>...</td>\n      <td>...</td>\n      <td>...</td>\n      <td>...</td>\n    </tr>\n    <tr>\n      <th>240084</th>\n      <td>zh-en</td>\n      <td>On September 27, 27th, Vietnam Shield vs. US D...</td>\n      <td>The central parity rate of Vietnamese dong aga...</td>\n      <td>-0.411959</td>\n    </tr>\n    <tr>\n      <th>240085</th>\n      <td>zh-en</td>\n      <td>With Exchange rate fluctuations at + /-3 today...</td>\n      <td>Under the circumstance of an exchange rate flu...</td>\n      <td>0.759167</td>\n    </tr>\n    <tr>\n      <th>240086</th>\n      <td>zh-en</td>\n      <td>The Bank's buying price and selling bid for rm...</td>\n      <td>The bank has a buying rate at 3,211 dong per C...</td>\n      <td>-2.022257</td>\n    </tr>\n    <tr>\n      <th>240087</th>\n      <td>zh-en</td>\n      <td>Techcombank of Vietnam (Techcombank) has set t...</td>\n      <td>Techcombank adjusted the buying and selling ra...</td>\n      <td>-2.754210</td>\n    </tr>\n    <tr>\n      <th>240088</th>\n      <td>zh-en</td>\n      <td>The Bank's buying price and selling bid for rm...</td>\n      <td>The bank has a buying rate at 3,193 dong per C...</td>\n      <td>0.173604</td>\n    </tr>\n  </tbody>\n</table>\n<p>136888 rows × 4 columns</p>\n</div>"
     },
     "execution_count": 22,
     "metadata": {},
     "output_type": "execute_result"
    }
   ],
   "source": [
    "def load_and_rename_data(filename:str) -> pd.DataFrame:\n",
    "    dat = pd.read_csv(filename)\n",
    "    dat = dat[dat.lp.str.endswith('en')]\n",
    "    dat.drop(['src', 'raw', 'annotators', 'domain'], inplace=True, axis=1)\n",
    "    dat.rename(columns={'lp':'lang', 'ref': 'reference', 'mt':'candidate'}, inplace=True)\n",
    "    return dat\n",
    "\n",
    "data22 = load_and_rename_data('wmt_data/2022-da.csv')\n",
    "data21 = load_and_rename_data('wmt_data/2021-da.csv')\n",
    "data20 = load_and_rename_data('wmt_data/2020-da.csv')\n",
    "data20"
   ],
   "metadata": {
    "collapsed": false,
    "pycharm": {
     "name": "#%%\n"
    }
   }
  },
  {
   "cell_type": "code",
   "execution_count": 16,
   "outputs": [
    {
     "data": {
      "text/plain": "         lang                                          candidate  \\\n0       cs-en         \"That's not normal,\" Ferrell told herself.   \n1       cs-en   \"That's not normal,\" Ferrellová said to himself.   \n2       cs-en  \"This is not the kind of murder we've gotten u...   \n3       cs-en  \"This is not the type of murder to which we ha...   \n4       cs-en  \"This isn't the kind of murder we've grown acc...   \n...       ...                                                ...   \n247152  zh-en  Continuous broadcast three years of \"Xiao Sonc...   \n247153  zh-en  For three years in a row, \"The Talk of Xiaoson...   \n247154  zh-en  For three years in a row, \"Xiaosong Chance\" ha...   \n247155  zh-en  For three years in a row, Xiao Song Chi-chu ha...   \n247156  zh-en  Three years of continuous broadcast of \"Xiaoso...   \n\n                                                reference     score  \n0         \"'This is not usual,'\" Ferrell recalled saying.  0.153301  \n1         \"'This is not usual,'\" Ferrell recalled saying. -1.800665  \n2       \"'This isn't the type of murder that we've bec...  1.156997  \n3       \"'This isn't the type of murder that we've bec... -0.329594  \n4       \"'This isn't the type of murder that we've bec... -0.009791  \n...                                                   ...       ...  \n247152  “Xiaosong Pedia”, which has been broadcast for... -0.637276  \n247153  “Xiaosong Pedia”, which has been broadcast for...  1.058468  \n247154  “Xiaosong Pedia”, which has been broadcast for... -1.217945  \n247155  “Xiaosong Pedia”, which has been broadcast for... -0.851482  \n247156  “Xiaosong Pedia”, which has been broadcast for... -2.704445  \n\n[247157 rows x 4 columns]",
      "text/html": "<div>\n<style scoped>\n    .dataframe tbody tr th:only-of-type {\n        vertical-align: middle;\n    }\n\n    .dataframe tbody tr th {\n        vertical-align: top;\n    }\n\n    .dataframe thead th {\n        text-align: right;\n    }\n</style>\n<table border=\"1\" class=\"dataframe\">\n  <thead>\n    <tr style=\"text-align: right;\">\n      <th></th>\n      <th>lang</th>\n      <th>candidate</th>\n      <th>reference</th>\n      <th>score</th>\n    </tr>\n  </thead>\n  <tbody>\n    <tr>\n      <th>0</th>\n      <td>cs-en</td>\n      <td>\"That's not normal,\" Ferrell told herself.</td>\n      <td>\"'This is not usual,'\" Ferrell recalled saying.</td>\n      <td>0.153301</td>\n    </tr>\n    <tr>\n      <th>1</th>\n      <td>cs-en</td>\n      <td>\"That's not normal,\" Ferrellová said to himself.</td>\n      <td>\"'This is not usual,'\" Ferrell recalled saying.</td>\n      <td>-1.800665</td>\n    </tr>\n    <tr>\n      <th>2</th>\n      <td>cs-en</td>\n      <td>\"This is not the kind of murder we've gotten u...</td>\n      <td>\"'This isn't the type of murder that we've bec...</td>\n      <td>1.156997</td>\n    </tr>\n    <tr>\n      <th>3</th>\n      <td>cs-en</td>\n      <td>\"This is not the type of murder to which we ha...</td>\n      <td>\"'This isn't the type of murder that we've bec...</td>\n      <td>-0.329594</td>\n    </tr>\n    <tr>\n      <th>4</th>\n      <td>cs-en</td>\n      <td>\"This isn't the kind of murder we've grown acc...</td>\n      <td>\"'This isn't the type of murder that we've bec...</td>\n      <td>-0.009791</td>\n    </tr>\n    <tr>\n      <th>...</th>\n      <td>...</td>\n      <td>...</td>\n      <td>...</td>\n      <td>...</td>\n    </tr>\n    <tr>\n      <th>247152</th>\n      <td>zh-en</td>\n      <td>Continuous broadcast three years of \"Xiao Sonc...</td>\n      <td>“Xiaosong Pedia”, which has been broadcast for...</td>\n      <td>-0.637276</td>\n    </tr>\n    <tr>\n      <th>247153</th>\n      <td>zh-en</td>\n      <td>For three years in a row, \"The Talk of Xiaoson...</td>\n      <td>“Xiaosong Pedia”, which has been broadcast for...</td>\n      <td>1.058468</td>\n    </tr>\n    <tr>\n      <th>247154</th>\n      <td>zh-en</td>\n      <td>For three years in a row, \"Xiaosong Chance\" ha...</td>\n      <td>“Xiaosong Pedia”, which has been broadcast for...</td>\n      <td>-1.217945</td>\n    </tr>\n    <tr>\n      <th>247155</th>\n      <td>zh-en</td>\n      <td>For three years in a row, Xiao Song Chi-chu ha...</td>\n      <td>“Xiaosong Pedia”, which has been broadcast for...</td>\n      <td>-0.851482</td>\n    </tr>\n    <tr>\n      <th>247156</th>\n      <td>zh-en</td>\n      <td>Three years of continuous broadcast of \"Xiaoso...</td>\n      <td>“Xiaosong Pedia”, which has been broadcast for...</td>\n      <td>-2.704445</td>\n    </tr>\n  </tbody>\n</table>\n<p>247157 rows × 4 columns</p>\n</div>"
     },
     "execution_count": 16,
     "metadata": {},
     "output_type": "execute_result"
    }
   ],
   "source": [
    "data_older = pd.read_json(\"bleurtMaster/wmt_data/wmt_all.json\", lines=True)\n",
    "data_older.drop(['source', 'year', 'n_ratings', 'system', 'segment_id', 'raw_rating'], inplace=True, axis=1)\n",
    "data_older"
   ],
   "metadata": {
    "collapsed": false,
    "pycharm": {
     "name": "#%%\n"
    }
   }
  },
  {
   "cell_type": "code",
   "execution_count": 7,
   "outputs": [
    {
     "data": {
      "text/plain": "         lang                                          candidate  \\\n0       zh-en  Hello, how long will it take for the ordered m...   \n1       ja-en                      The rest is as per your note.   \n2       zh-en  The computer is very good, especially the cust...   \n3       zh-en  According to the requirements of epidemic prev...   \n4       ja-en  I made an am radio with homemade capacitors an...   \n...       ...                                                ...   \n219860  zh-en  Chinese colleges and universities should furth...   \n219861  ja-en  I wonder if there are many people who use redd...   \n219862  zh-en  A simple white T-shirt with a short skirt, and...   \n219863  is-en  \"You have the mystery, I need Iceland,\" says a...   \n219864  zh-en  The Biennale covers an area of nearly 12,000 s...   \n\n                                                reference     score  \n0       Hello, how much longer will the ordered food a...  0.146530  \n1                  The rest is exactly as your notes say. -1.484289  \n2       The laptop is good; the customer service staff...  0.920532  \n3       In accordance with the requirements related to...  0.845171  \n4       I made an AM radio with a homemade condenser a...  0.563870  \n...                                                   ...       ...  \n219860  Universities and colleges in China shall furth...  0.278676  \n219861  Maybe a few people here use Reddit but also us... -0.267265  \n219862  Fat girls can also try simple white T-shirt wi... -0.234670  \n219863  \"You're right, I need Iceland,\" says a woman s... -0.804000  \n219864  The biennale occupies an area of nearly twelve... -0.070969  \n\n[219865 rows x 4 columns]",
      "text/html": "<div>\n<style scoped>\n    .dataframe tbody tr th:only-of-type {\n        vertical-align: middle;\n    }\n\n    .dataframe tbody tr th {\n        vertical-align: top;\n    }\n\n    .dataframe thead th {\n        text-align: right;\n    }\n</style>\n<table border=\"1\" class=\"dataframe\">\n  <thead>\n    <tr style=\"text-align: right;\">\n      <th></th>\n      <th>lang</th>\n      <th>candidate</th>\n      <th>reference</th>\n      <th>score</th>\n    </tr>\n  </thead>\n  <tbody>\n    <tr>\n      <th>0</th>\n      <td>zh-en</td>\n      <td>Hello, how long will it take for the ordered m...</td>\n      <td>Hello, how much longer will the ordered food a...</td>\n      <td>0.146530</td>\n    </tr>\n    <tr>\n      <th>1</th>\n      <td>ja-en</td>\n      <td>The rest is as per your note.</td>\n      <td>The rest is exactly as your notes say.</td>\n      <td>-1.484289</td>\n    </tr>\n    <tr>\n      <th>2</th>\n      <td>zh-en</td>\n      <td>The computer is very good, especially the cust...</td>\n      <td>The laptop is good; the customer service staff...</td>\n      <td>0.920532</td>\n    </tr>\n    <tr>\n      <th>3</th>\n      <td>zh-en</td>\n      <td>According to the requirements of epidemic prev...</td>\n      <td>In accordance with the requirements related to...</td>\n      <td>0.845171</td>\n    </tr>\n    <tr>\n      <th>4</th>\n      <td>ja-en</td>\n      <td>I made an am radio with homemade capacitors an...</td>\n      <td>I made an AM radio with a homemade condenser a...</td>\n      <td>0.563870</td>\n    </tr>\n    <tr>\n      <th>...</th>\n      <td>...</td>\n      <td>...</td>\n      <td>...</td>\n      <td>...</td>\n    </tr>\n    <tr>\n      <th>219860</th>\n      <td>zh-en</td>\n      <td>Chinese colleges and universities should furth...</td>\n      <td>Universities and colleges in China shall furth...</td>\n      <td>0.278676</td>\n    </tr>\n    <tr>\n      <th>219861</th>\n      <td>ja-en</td>\n      <td>I wonder if there are many people who use redd...</td>\n      <td>Maybe a few people here use Reddit but also us...</td>\n      <td>-0.267265</td>\n    </tr>\n    <tr>\n      <th>219862</th>\n      <td>zh-en</td>\n      <td>A simple white T-shirt with a short skirt, and...</td>\n      <td>Fat girls can also try simple white T-shirt wi...</td>\n      <td>-0.234670</td>\n    </tr>\n    <tr>\n      <th>219863</th>\n      <td>is-en</td>\n      <td>\"You have the mystery, I need Iceland,\" says a...</td>\n      <td>\"You're right, I need Iceland,\" says a woman s...</td>\n      <td>-0.804000</td>\n    </tr>\n    <tr>\n      <th>219864</th>\n      <td>zh-en</td>\n      <td>The Biennale covers an area of nearly 12,000 s...</td>\n      <td>The biennale occupies an area of nearly twelve...</td>\n      <td>-0.070969</td>\n    </tr>\n  </tbody>\n</table>\n<p>219865 rows × 4 columns</p>\n</div>"
     },
     "execution_count": 7,
     "metadata": {},
     "output_type": "execute_result"
    }
   ],
   "source": [
    "#data = pd.concat([data_older, data20, data21, data22])\n",
    "data = pd.concat([data22, data21])\n",
    "data = data.sample(frac=1).reset_index(drop=True)\n",
    "data"
   ],
   "metadata": {
    "collapsed": false,
    "pycharm": {
     "name": "#%%\n"
    }
   }
  },
  {
   "cell_type": "code",
   "execution_count": 8,
   "outputs": [],
   "source": [
    "frac_flipped_pairs = 0.3\n",
    "frac_identical = 0.3\n",
    "indices_flipped = np.random.randn(len(data)) < frac_flipped_pairs\n",
    "duplicates = data[indices_flipped].copy()\n",
    "duplicates = pd.DataFrame({'lang': duplicates['lang'], 'candidate': duplicates['reference'],\n",
    "                           'reference': duplicates['candidate'], 'score': duplicates['score']})\n",
    "# augment every sample only once -> create diff of dfs\n",
    "ident = data[~indices_flipped]\n",
    "indices_cand = np.random.randn(len(ident)) < frac_identical\n",
    "indices_ref = np.random.randn(len(ident)) > 1 - frac_identical\n",
    "ident_cand = ident[indices_cand]\n",
    "ident_ref = ident[indices_ref]\n",
    "ident_cand = pd.DataFrame({'lang': ['**-en'] * len(ident_cand), 'candidate': ident_cand['candidate'],\n",
    "                           'reference': ident_cand['candidate'], 'score': [1.0] * len(ident_cand)})\n",
    "ident_ref = pd.DataFrame({'lang': ['**-en'] * len(ident_ref), 'candidate': ident_ref['reference'],\n",
    "                           'reference': ident_ref['reference'], 'score': [1.0] * len(ident_ref)})\n",
    "data_wmt = pd.concat([data, duplicates, ident_cand, ident_ref])\n",
    "data_wmt = data_wmt.sample(frac=1).reset_index(drop=True)"
   ],
   "metadata": {
    "collapsed": false,
    "pycharm": {
     "name": "#%%\n"
    }
   }
  },
  {
   "cell_type": "code",
   "execution_count": 9,
   "outputs": [
    {
     "data": {
      "text/plain": "135867"
     },
     "execution_count": 9,
     "metadata": {},
     "output_type": "execute_result"
    }
   ],
   "source": [
    "len(duplicates)"
   ],
   "metadata": {
    "collapsed": false,
    "pycharm": {
     "name": "#%%\n"
    }
   }
  },
  {
   "cell_type": "code",
   "execution_count": 10,
   "outputs": [
    {
     "name": "stdout",
     "output_type": "stream",
     "text": [
      "DatasetDict({\n",
      "    train: Dataset({\n",
      "        features: ['candidate', 'reference', 'score'],\n",
      "        num_rows: 175892\n",
      "    })\n",
      "    eval: Dataset({\n",
      "        features: ['candidate', 'reference', 'score'],\n",
      "        num_rows: 21986\n",
      "    })\n",
      "    test: Dataset({\n",
      "        features: ['candidate', 'reference', 'score'],\n",
      "        num_rows: 21987\n",
      "    })\n",
      "})\n"
     ]
    }
   ],
   "source": [
    "cand_column = \"candidate\" # \"mt\"\n",
    "ref_column = \"reference\" #\"ref\"\n",
    "lab_column = \"score\"\n",
    "#df = data_wmt[[\"mt\", \"ref\", \"label\"]]\n",
    "df = data[[cand_column, ref_column, lab_column]]\n",
    "dataset_unsplit = Dataset.from_pandas(df)  # no need to shuffle (data already shuffled)\n",
    "\n",
    "# Split dataset into train-eval-test (80-10-10)\n",
    "# HuggingFace doesn't provide a straightforward way of doing this,\n",
    "# see https://discuss.huggingface.co/t/how-to-split-main-dataset-into-train-dev-test-as-datasetdict\n",
    "dataset_train = dataset_unsplit.train_test_split(test_size=0.2)\n",
    "dataset_eval_test = dataset_train[\"test\"].train_test_split(test_size=0.5)\n",
    "\n",
    "dataset = DatasetDict(\n",
    "    train=dataset_train[\"train\"],\n",
    "    eval=dataset_eval_test[\"train\"],  # not a typo!\n",
    "    test=dataset_eval_test[\"test\"]\n",
    ")\n",
    "\n",
    "print(dataset)\n",
    "\n",
    "assert dataset_unsplit.num_rows == (dataset[\"train\"].num_rows + dataset[\"eval\"].num_rows + dataset[\"test\"].num_rows)\n",
    "assert dataset[\"train\"][:10] != dataset[\"eval\"][:10] \\\n",
    "       and dataset[\"train\"][:10] != dataset[\"test\"][:10] \\\n",
    "       and dataset[\"eval\"][:10] != dataset[\"test\"][:10]"
   ],
   "metadata": {
    "collapsed": false,
    "pycharm": {
     "name": "#%%\n"
    }
   }
  },
  {
   "cell_type": "code",
   "execution_count": 20,
   "outputs": [
    {
     "data": {
      "text/plain": "Flattening the indices:   0%|          | 0/945392 [00:00<?, ? examples/s]",
      "application/vnd.jupyter.widget-view+json": {
       "version_major": 2,
       "version_minor": 0,
       "model_id": "ac0ca24618c54ae29f4df306bf135081"
      }
     },
     "metadata": {},
     "output_type": "display_data"
    },
    {
     "data": {
      "text/plain": "Saving the dataset (0/1 shards):   0%|          | 0/945392 [00:00<?, ? examples/s]",
      "application/vnd.jupyter.widget-view+json": {
       "version_major": 2,
       "version_minor": 0,
       "model_id": "be1d59b4c4944ed4a5950fcad40745bb"
      }
     },
     "metadata": {},
     "output_type": "display_data"
    },
    {
     "data": {
      "text/plain": "Flattening the indices:   0%|          | 0/118174 [00:00<?, ? examples/s]",
      "application/vnd.jupyter.widget-view+json": {
       "version_major": 2,
       "version_minor": 0,
       "model_id": "6cf5cf6be7524ea99b90cd6807ee1574"
      }
     },
     "metadata": {},
     "output_type": "display_data"
    },
    {
     "data": {
      "text/plain": "Saving the dataset (0/1 shards):   0%|          | 0/118174 [00:00<?, ? examples/s]",
      "application/vnd.jupyter.widget-view+json": {
       "version_major": 2,
       "version_minor": 0,
       "model_id": "16e10823262844d0b18f45af67af7e62"
      }
     },
     "metadata": {},
     "output_type": "display_data"
    },
    {
     "data": {
      "text/plain": "Flattening the indices:   0%|          | 0/118174 [00:00<?, ? examples/s]",
      "application/vnd.jupyter.widget-view+json": {
       "version_major": 2,
       "version_minor": 0,
       "model_id": "80261a2e4b49400e9e93437697952dc6"
      }
     },
     "metadata": {},
     "output_type": "display_data"
    },
    {
     "data": {
      "text/plain": "Saving the dataset (0/1 shards):   0%|          | 0/118174 [00:00<?, ? examples/s]",
      "application/vnd.jupyter.widget-view+json": {
       "version_major": 2,
       "version_minor": 0,
       "model_id": "13d301fd08a44b2ca79eefbb674571d3"
      }
     },
     "metadata": {},
     "output_type": "display_data"
    }
   ],
   "source": [
    "dataset.save_to_disk(\"wmt_all_years_augmented\")"
   ],
   "metadata": {
    "collapsed": false,
    "pycharm": {
     "name": "#%%\n"
    }
   }
  },
  {
   "cell_type": "code",
   "execution_count": 11,
   "outputs": [
    {
     "data": {
      "text/plain": "Creating json from Arrow format:   0%|          | 0/176 [00:00<?, ?ba/s]",
      "application/vnd.jupyter.widget-view+json": {
       "version_major": 2,
       "version_minor": 0,
       "model_id": "c10d794e4280401492551ddd8c7ed7f7"
      }
     },
     "metadata": {},
     "output_type": "display_data"
    },
    {
     "data": {
      "text/plain": "Creating json from Arrow format:   0%|          | 0/22 [00:00<?, ?ba/s]",
      "application/vnd.jupyter.widget-view+json": {
       "version_major": 2,
       "version_minor": 0,
       "model_id": "0f5c2273b95948949177c990fe4f5011"
      }
     },
     "metadata": {},
     "output_type": "display_data"
    },
    {
     "data": {
      "text/plain": "Creating json from Arrow format:   0%|          | 0/22 [00:00<?, ?ba/s]",
      "application/vnd.jupyter.widget-view+json": {
       "version_major": 2,
       "version_minor": 0,
       "model_id": "778d3688d2414cfd91d359222c6d16fe"
      }
     },
     "metadata": {},
     "output_type": "display_data"
    },
    {
     "data": {
      "text/plain": "6838267"
     },
     "execution_count": 11,
     "metadata": {},
     "output_type": "execute_result"
    }
   ],
   "source": [
    "save_path = \"wmt_21_22_augmented/\"\n",
    "dataset['train'].to_json(save_path + \"train.json\")\n",
    "dataset['test'].to_json(save_path + \"test.json\")\n",
    "dataset['eval'].to_json(save_path + \"eval.json\")"
   ],
   "metadata": {
    "collapsed": false,
    "pycharm": {
     "name": "#%%\n"
    }
   }
  },
  {
   "cell_type": "code",
   "execution_count": null,
   "outputs": [],
   "source": [
    "from pathlib import Path\n",
    "import torch\n",
    "from sentence_transformers import SentenceTransformer\n",
    "\n",
    "timestamp = \"2023-02-17_15-02-13\"\n",
    "project_base_path = Path(\"Guided Research WS22\")\n",
    "negation_dataset = project_base_path / \"data/negation_dataset_labeled.tsv\"\n",
    "\n",
    "base_model = \"sentence-transformers/all-mpnet-base-v2\"\n",
    "output_model_name = f\"{base_model.split('/')[1]}-negation\"  # TODO.\n",
    "model_save_path = str(project_base_path / f\"finetuned-models/{timestamp}/{output_model_name}\")\n",
    "sentence_model = SentenceTransformer(model_save_path)\n",
    "\n",
    "device = \"cuda:0\" if torch.cuda.is_available() else \"cpu\"\n",
    "print(device)\n",
    "sentence_model.to(device)"
   ],
   "metadata": {
    "collapsed": false,
    "pycharm": {
     "name": "#%%\n"
    }
   }
  },
  {
   "cell_type": "code",
   "execution_count": null,
   "outputs": [],
   "source": [
    "X_train_mt = sentence_model.encode(dataset['train'][cand_column])\n",
    "X_train_ref = sentence_model.encode(dataset['train'][ref_column])\n",
    "X_train_vec = np.concatenate([X_train_ref, X_train_mt], axis=1)\n",
    "print(X_train_vec.shape)\n",
    "\n",
    "X_eval_mt = sentence_model.encode(dataset['eval'][cand_column])\n",
    "X_eval_ref = sentence_model.encode(dataset['eval'][ref_column])\n",
    "X_eval_vec = np.concatenate([X_eval_ref, X_eval_mt], axis=1)\n",
    "\n",
    "X_test_mt = sentence_model.encode(dataset['test'][cand_column])\n",
    "X_test_ref = sentence_model.encode(dataset['test'][ref_column])\n",
    "X_test_vec = np.concatenate([X_test_ref, X_test_mt], axis=1)"
   ],
   "metadata": {
    "collapsed": false,
    "pycharm": {
     "name": "#%%\n"
    }
   }
  },
  {
   "cell_type": "code",
   "execution_count": null,
   "outputs": [],
   "source": [
    "wmt_data_folder = \"wmt_data_bleurt/\"\n",
    "np.save(wmt_data_folder+\"X_train\", X_train_vec)\n",
    "np.save(wmt_data_folder+\"X_eval\", X_eval_vec)\n",
    "np.save(wmt_data_folder+\"X_test\", X_test_vec)"
   ],
   "metadata": {
    "collapsed": false,
    "pycharm": {
     "name": "#%%\n"
    }
   }
  },
  {
   "cell_type": "markdown",
   "source": [
    "### Data investigation"
   ],
   "metadata": {
    "collapsed": false,
    "pycharm": {
     "name": "#%% md\n"
    }
   }
  },
  {
   "cell_type": "code",
   "execution_count": 17,
   "outputs": [],
   "source": [
    "import pandas as pd"
   ],
   "metadata": {
    "collapsed": false,
    "pycharm": {
     "name": "#%%\n"
    }
   }
  },
  {
   "cell_type": "code",
   "execution_count": 19,
   "outputs": [
    {
     "data": {
      "text/plain": "                                                candidate  \\\n0       I believe they are looking for a pastry chef w...   \n1       Commercial timber harvesting and hydro-electri...   \n2                           He mainly buys trading cards.   \n3            The YIG filter is tunes by an electromagnet.   \n4       If you have a big aquarium pumps with 2 or mor...   \n...                                                   ...   \n198629                 In 1954 the school was integrated.   \n198630            By brand, semiconductor Intel fell 16%.   \n198631  If you wish, you can meet your family in Kutna...   \n198632  Members of Bathyotica do have a postfrontal bone.   \n198633  In order to prevent the spread of the epidemic...   \n\n                                                reference     score  \n0       I think they are looking for a confectioner wh...  0.561256  \n1       Commercial timber harvesting and commercial hy...  1.000000  \n2                       He mainly buys collectible cards.  0.588547  \n3       An electromagnet then tunes the YIG filter to ...  1.000000  \n4       If you own a large aquarium, then a pump with ... -0.585726  \n...                                                   ...       ...  \n198629                 The school was integrated in 1954.  1.000000  \n198630  Looking at individual stocks, semiconductor gi...  0.785644  \n198631  If you wish, you can meet your family in Kutna...  0.613079  \n198632  Members of Bathyotica also lack a postfrontal ...  0.000000  \n198633  The Catalonia region of Spain has also reinsta... -0.261253  \n\n[198634 rows x 3 columns]",
      "text/html": "<div>\n<style scoped>\n    .dataframe tbody tr th:only-of-type {\n        vertical-align: middle;\n    }\n\n    .dataframe tbody tr th {\n        vertical-align: top;\n    }\n\n    .dataframe thead th {\n        text-align: right;\n    }\n</style>\n<table border=\"1\" class=\"dataframe\">\n  <thead>\n    <tr style=\"text-align: right;\">\n      <th></th>\n      <th>candidate</th>\n      <th>reference</th>\n      <th>score</th>\n    </tr>\n  </thead>\n  <tbody>\n    <tr>\n      <th>0</th>\n      <td>I believe they are looking for a pastry chef w...</td>\n      <td>I think they are looking for a confectioner wh...</td>\n      <td>0.561256</td>\n    </tr>\n    <tr>\n      <th>1</th>\n      <td>Commercial timber harvesting and hydro-electri...</td>\n      <td>Commercial timber harvesting and commercial hy...</td>\n      <td>1.000000</td>\n    </tr>\n    <tr>\n      <th>2</th>\n      <td>He mainly buys trading cards.</td>\n      <td>He mainly buys collectible cards.</td>\n      <td>0.588547</td>\n    </tr>\n    <tr>\n      <th>3</th>\n      <td>The YIG filter is tunes by an electromagnet.</td>\n      <td>An electromagnet then tunes the YIG filter to ...</td>\n      <td>1.000000</td>\n    </tr>\n    <tr>\n      <th>4</th>\n      <td>If you have a big aquarium pumps with 2 or mor...</td>\n      <td>If you own a large aquarium, then a pump with ...</td>\n      <td>-0.585726</td>\n    </tr>\n    <tr>\n      <th>...</th>\n      <td>...</td>\n      <td>...</td>\n      <td>...</td>\n    </tr>\n    <tr>\n      <th>198629</th>\n      <td>In 1954 the school was integrated.</td>\n      <td>The school was integrated in 1954.</td>\n      <td>1.000000</td>\n    </tr>\n    <tr>\n      <th>198630</th>\n      <td>By brand, semiconductor Intel fell 16%.</td>\n      <td>Looking at individual stocks, semiconductor gi...</td>\n      <td>0.785644</td>\n    </tr>\n    <tr>\n      <th>198631</th>\n      <td>If you wish, you can meet your family in Kutna...</td>\n      <td>If you wish, you can meet your family in Kutna...</td>\n      <td>0.613079</td>\n    </tr>\n    <tr>\n      <th>198632</th>\n      <td>Members of Bathyotica do have a postfrontal bone.</td>\n      <td>Members of Bathyotica also lack a postfrontal ...</td>\n      <td>0.000000</td>\n    </tr>\n    <tr>\n      <th>198633</th>\n      <td>In order to prevent the spread of the epidemic...</td>\n      <td>The Catalonia region of Spain has also reinsta...</td>\n      <td>-0.261253</td>\n    </tr>\n  </tbody>\n</table>\n<p>198634 rows × 3 columns</p>\n</div>"
     },
     "execution_count": 19,
     "metadata": {},
     "output_type": "execute_result"
    }
   ],
   "source": [
    "#wmt21 = pd.read_json(\"wmt_21/train_neg_-1.json\", lines=True)\n",
    "wmt21 = pd.read_json(\"wmt_21_22_augmented/train_neg_0.json\", lines=True)\n",
    "wmt21"
   ],
   "metadata": {
    "collapsed": false,
    "pycharm": {
     "name": "#%%\n"
    }
   }
  },
  {
   "cell_type": "code",
   "execution_count": 28,
   "outputs": [
    {
     "data": {
      "text/plain": "                                                candidate  \\\n0                                 I give it 2 thumbs down   \n1       He noted that today's weather situation will b...   \n2       This is a cult classic that is worth watching ...   \n3       A later owner, Charles W. Griffith, added the ...   \n4            Not tasty and the texture wasn't just nasty.   \n...                                                   ...   \n140823  It is expected that during the day today, Beij...   \n140824  The British received horses from this ranch du...   \n140825  It is ranked amongst the least successful scho...   \n140826  The governor added, \"We must express our grati...   \n140827  On Saturday evening, some young people would h...   \n\n                                                reference     score  \n0                           I don't give it 2 thumbs down -1.000000  \n1       He noted that the weather today would be deter...  0.588926  \n2       This is definitely a cult classic well worth v...  1.000000  \n3       A later owner, Charles W. Griffith, removed th... -1.000000  \n4               Not tasty and the texture was just nasty. -1.000000  \n...                                                   ...       ...  \n140823  It is estimated that during the day, Beijing w...  1.390594  \n140824  From this ranch, he supplied the British with ...  1.000000  \n140825  It is ranked amongst the most successful schoo... -1.000000  \n140826  The Governor added that we must express our gr... -0.218797  \n140827  On Saturday evening some young people played R... -0.471293  \n\n[137910 rows x 3 columns]",
      "text/html": "<div>\n<style scoped>\n    .dataframe tbody tr th:only-of-type {\n        vertical-align: middle;\n    }\n\n    .dataframe tbody tr th {\n        vertical-align: top;\n    }\n\n    .dataframe thead th {\n        text-align: right;\n    }\n</style>\n<table border=\"1\" class=\"dataframe\">\n  <thead>\n    <tr style=\"text-align: right;\">\n      <th></th>\n      <th>candidate</th>\n      <th>reference</th>\n      <th>score</th>\n    </tr>\n  </thead>\n  <tbody>\n    <tr>\n      <th>0</th>\n      <td>I give it 2 thumbs down</td>\n      <td>I don't give it 2 thumbs down</td>\n      <td>-1.000000</td>\n    </tr>\n    <tr>\n      <th>1</th>\n      <td>He noted that today's weather situation will b...</td>\n      <td>He noted that the weather today would be deter...</td>\n      <td>0.588926</td>\n    </tr>\n    <tr>\n      <th>2</th>\n      <td>This is a cult classic that is worth watching ...</td>\n      <td>This is definitely a cult classic well worth v...</td>\n      <td>1.000000</td>\n    </tr>\n    <tr>\n      <th>3</th>\n      <td>A later owner, Charles W. Griffith, added the ...</td>\n      <td>A later owner, Charles W. Griffith, removed th...</td>\n      <td>-1.000000</td>\n    </tr>\n    <tr>\n      <th>4</th>\n      <td>Not tasty and the texture wasn't just nasty.</td>\n      <td>Not tasty and the texture was just nasty.</td>\n      <td>-1.000000</td>\n    </tr>\n    <tr>\n      <th>...</th>\n      <td>...</td>\n      <td>...</td>\n      <td>...</td>\n    </tr>\n    <tr>\n      <th>140823</th>\n      <td>It is expected that during the day today, Beij...</td>\n      <td>It is estimated that during the day, Beijing w...</td>\n      <td>1.390594</td>\n    </tr>\n    <tr>\n      <th>140824</th>\n      <td>The British received horses from this ranch du...</td>\n      <td>From this ranch, he supplied the British with ...</td>\n      <td>1.000000</td>\n    </tr>\n    <tr>\n      <th>140825</th>\n      <td>It is ranked amongst the least successful scho...</td>\n      <td>It is ranked amongst the most successful schoo...</td>\n      <td>-1.000000</td>\n    </tr>\n    <tr>\n      <th>140826</th>\n      <td>The governor added, \"We must express our grati...</td>\n      <td>The Governor added that we must express our gr...</td>\n      <td>-0.218797</td>\n    </tr>\n    <tr>\n      <th>140827</th>\n      <td>On Saturday evening, some young people would h...</td>\n      <td>On Saturday evening some young people played R...</td>\n      <td>-0.471293</td>\n    </tr>\n  </tbody>\n</table>\n<p>137910 rows × 3 columns</p>\n</div>"
     },
     "execution_count": 28,
     "metadata": {},
     "output_type": "execute_result"
    }
   ],
   "source": [
    "wmt21[(wmt21.score <2) & (wmt21.score > -2)]"
   ],
   "metadata": {
    "collapsed": false,
    "pycharm": {
     "name": "#%%\n"
    }
   }
  },
  {
   "cell_type": "code",
   "execution_count": 20,
   "outputs": [
    {
     "data": {
      "text/plain": "       lang                                          candidate  \\\n0      None  Additionally, Norwegian assimilated a consider...   \n1      None  No health effects are expected from ingestion ...   \n2     de-en  Dr. Wolfgang Schneider has consulted the Bisch...   \n3     fi-en  Hull Valioliiga Club, the club has invested a ...   \n4      None  Terrorist tactics usually discourage attacks t...   \n...     ...                                                ...   \n3797   None  A month after his release, the Seventh Circuit...   \n3798  fi-en  He did an hour towards säälintunnetta Keverniä...   \n3799  ru-en  \"I went for two minutes before the terrorists ...   \n3800  cs-en  Campaigners for women's rights to abortion, to...   \n3801   None  Adults are on wing in early April and mid-Octo...   \n\n                                              reference  \\\n0     Norwegian used a lot of traditional Danes expr...   \n1     No health effects are expected by ingestion of...   \n2     Dr Wolfgang Schneider has, once again, consult...   \n3     Premier League club Hull invested a record sum...   \n4     Terrorist tactics tend to favor attacks that a...   \n...                                                 ...   \n3797  A month after his release, the Seventh Circuit...   \n3798  She felt a pang for him and for men in general...   \n3799  'I left two minutes before the terrorists rush...   \n3800  Abortion rights campaigners, along with the Am...   \n3801          In April and October, adults are on wing.   \n\n                                                 source    year  n_ratings  \\\n0                                                  None     NaN        NaN   \n1                                                  None     NaN        NaN   \n2     Dr. Wolfgang Schneider hat extra das Bischofsh...  2015.0        NaN   \n3     Valioliigaseura Hull sijoitti seuran ennätyssu...  2015.0        NaN   \n4                                                  None     NaN        NaN   \n...                                                 ...     ...        ...   \n3797                                               None     NaN        NaN   \n3798  Hän tunti säälintunnetta Keverniä ja miehiä ko...  2015.0        NaN   \n3799  \"Я ушла за две минуты до того, как террористы ...  2015.0        NaN   \n3800  Bojovníci za práva žen na potrat společně se S...  2015.0        NaN   \n3801                                               None     NaN        NaN   \n\n      system  segment_id  raw_rating     score  \n0        NaN         NaN         NaN  1.000000  \n1        NaN         NaN         NaN  1.000000  \n2        NaN       384.0         NaN -0.330765  \n3        NaN       325.0         NaN  0.250715  \n4        NaN         NaN         NaN -1.000000  \n...      ...         ...         ...       ...  \n3797     NaN         NaN         NaN -1.000000  \n3798     NaN       126.0         NaN -0.720867  \n3799     NaN       370.0         NaN  0.142791  \n3800     NaN       238.0         NaN -0.079020  \n3801     NaN         NaN         NaN  1.000000  \n\n[3802 rows x 10 columns]",
      "text/html": "<div>\n<style scoped>\n    .dataframe tbody tr th:only-of-type {\n        vertical-align: middle;\n    }\n\n    .dataframe tbody tr th {\n        vertical-align: top;\n    }\n\n    .dataframe thead th {\n        text-align: right;\n    }\n</style>\n<table border=\"1\" class=\"dataframe\">\n  <thead>\n    <tr style=\"text-align: right;\">\n      <th></th>\n      <th>lang</th>\n      <th>candidate</th>\n      <th>reference</th>\n      <th>source</th>\n      <th>year</th>\n      <th>n_ratings</th>\n      <th>system</th>\n      <th>segment_id</th>\n      <th>raw_rating</th>\n      <th>score</th>\n    </tr>\n  </thead>\n  <tbody>\n    <tr>\n      <th>0</th>\n      <td>None</td>\n      <td>Additionally, Norwegian assimilated a consider...</td>\n      <td>Norwegian used a lot of traditional Danes expr...</td>\n      <td>None</td>\n      <td>NaN</td>\n      <td>NaN</td>\n      <td>NaN</td>\n      <td>NaN</td>\n      <td>NaN</td>\n      <td>1.000000</td>\n    </tr>\n    <tr>\n      <th>1</th>\n      <td>None</td>\n      <td>No health effects are expected from ingestion ...</td>\n      <td>No health effects are expected by ingestion of...</td>\n      <td>None</td>\n      <td>NaN</td>\n      <td>NaN</td>\n      <td>NaN</td>\n      <td>NaN</td>\n      <td>NaN</td>\n      <td>1.000000</td>\n    </tr>\n    <tr>\n      <th>2</th>\n      <td>de-en</td>\n      <td>Dr. Wolfgang Schneider has consulted the Bisch...</td>\n      <td>Dr Wolfgang Schneider has, once again, consult...</td>\n      <td>Dr. Wolfgang Schneider hat extra das Bischofsh...</td>\n      <td>2015.0</td>\n      <td>NaN</td>\n      <td>NaN</td>\n      <td>384.0</td>\n      <td>NaN</td>\n      <td>-0.330765</td>\n    </tr>\n    <tr>\n      <th>3</th>\n      <td>fi-en</td>\n      <td>Hull Valioliiga Club, the club has invested a ...</td>\n      <td>Premier League club Hull invested a record sum...</td>\n      <td>Valioliigaseura Hull sijoitti seuran ennätyssu...</td>\n      <td>2015.0</td>\n      <td>NaN</td>\n      <td>NaN</td>\n      <td>325.0</td>\n      <td>NaN</td>\n      <td>0.250715</td>\n    </tr>\n    <tr>\n      <th>4</th>\n      <td>None</td>\n      <td>Terrorist tactics usually discourage attacks t...</td>\n      <td>Terrorist tactics tend to favor attacks that a...</td>\n      <td>None</td>\n      <td>NaN</td>\n      <td>NaN</td>\n      <td>NaN</td>\n      <td>NaN</td>\n      <td>NaN</td>\n      <td>-1.000000</td>\n    </tr>\n    <tr>\n      <th>...</th>\n      <td>...</td>\n      <td>...</td>\n      <td>...</td>\n      <td>...</td>\n      <td>...</td>\n      <td>...</td>\n      <td>...</td>\n      <td>...</td>\n      <td>...</td>\n      <td>...</td>\n    </tr>\n    <tr>\n      <th>3797</th>\n      <td>None</td>\n      <td>A month after his release, the Seventh Circuit...</td>\n      <td>A month after his release, the Seventh Circuit...</td>\n      <td>None</td>\n      <td>NaN</td>\n      <td>NaN</td>\n      <td>NaN</td>\n      <td>NaN</td>\n      <td>NaN</td>\n      <td>-1.000000</td>\n    </tr>\n    <tr>\n      <th>3798</th>\n      <td>fi-en</td>\n      <td>He did an hour towards säälintunnetta Keverniä...</td>\n      <td>She felt a pang for him and for men in general...</td>\n      <td>Hän tunti säälintunnetta Keverniä ja miehiä ko...</td>\n      <td>2015.0</td>\n      <td>NaN</td>\n      <td>NaN</td>\n      <td>126.0</td>\n      <td>NaN</td>\n      <td>-0.720867</td>\n    </tr>\n    <tr>\n      <th>3799</th>\n      <td>ru-en</td>\n      <td>\"I went for two minutes before the terrorists ...</td>\n      <td>'I left two minutes before the terrorists rush...</td>\n      <td>\"Я ушла за две минуты до того, как террористы ...</td>\n      <td>2015.0</td>\n      <td>NaN</td>\n      <td>NaN</td>\n      <td>370.0</td>\n      <td>NaN</td>\n      <td>0.142791</td>\n    </tr>\n    <tr>\n      <th>3800</th>\n      <td>cs-en</td>\n      <td>Campaigners for women's rights to abortion, to...</td>\n      <td>Abortion rights campaigners, along with the Am...</td>\n      <td>Bojovníci za práva žen na potrat společně se S...</td>\n      <td>2015.0</td>\n      <td>NaN</td>\n      <td>NaN</td>\n      <td>238.0</td>\n      <td>NaN</td>\n      <td>-0.079020</td>\n    </tr>\n    <tr>\n      <th>3801</th>\n      <td>None</td>\n      <td>Adults are on wing in early April and mid-Octo...</td>\n      <td>In April and October, adults are on wing.</td>\n      <td>None</td>\n      <td>NaN</td>\n      <td>NaN</td>\n      <td>NaN</td>\n      <td>NaN</td>\n      <td>NaN</td>\n      <td>1.000000</td>\n    </tr>\n  </tbody>\n</table>\n<p>3802 rows × 10 columns</p>\n</div>"
     },
     "execution_count": 20,
     "metadata": {},
     "output_type": "execute_result"
    }
   ],
   "source": [
    "wmt_bleurt = pd.read_json(\"bleurtMaster/wmt_data/train_ratings_neg_-1.json\", lines=True)\n",
    "wmt_bleurt"
   ],
   "metadata": {
    "collapsed": false,
    "pycharm": {
     "name": "#%%\n"
    }
   }
  },
  {
   "cell_type": "code",
   "execution_count": 21,
   "outputs": [
    {
     "name": "stdout",
     "output_type": "stream",
     "text": [
      "               score\n",
      "count  198634.000000\n",
      "mean        0.197796\n",
      "std         0.539709\n",
      "min        -0.999993\n",
      "25%        -0.156174\n",
      "50%         0.129354\n",
      "75%         0.638042\n",
      "max         1.000000\n",
      "         year  n_ratings  system   segment_id  raw_rating        score\n",
      "count  1791.0        0.0     0.0  1791.000000         0.0  3802.000000\n",
      "mean   2015.0        NaN     NaN   249.252931         NaN    -0.018409\n",
      "std       0.0        NaN     NaN   143.899267         NaN     0.832993\n",
      "min    2015.0        NaN     NaN     1.000000         NaN    -1.901818\n",
      "25%    2015.0        NaN     NaN   126.000000         NaN    -1.000000\n",
      "50%    2015.0        NaN     NaN   248.000000         NaN    -0.024450\n",
      "75%    2015.0        NaN     NaN   372.000000         NaN     1.000000\n",
      "max    2015.0        NaN     NaN   500.000000         NaN     1.315658\n"
     ]
    }
   ],
   "source": [
    "print(wmt21.describe())\n",
    "print(wmt_bleurt.describe())"
   ],
   "metadata": {
    "collapsed": false,
    "pycharm": {
     "name": "#%%\n"
    }
   }
  },
  {
   "cell_type": "markdown",
   "source": [
    "## Append negation data to wmt data"
   ],
   "metadata": {
    "collapsed": false,
    "pycharm": {
     "name": "#%% md\n"
    }
   }
  },
  {
   "cell_type": "code",
   "execution_count": 19,
   "outputs": [
    {
     "name": "stdout",
     "output_type": "stream",
     "text": [
      "1791 4132 200\n"
     ]
    },
    {
     "data": {
      "text/plain": "                                              candidate  \\\n0     In previous Olympic games, Gaby Duglasa became...   \n1     I also think that the film shows that we have ...   \n3     But, regardless, Fiji would have beaten a 15-m...   \n4     The first day of the new school year, is tradi...   \n5     The usual trajectory of the Olympic railway is...   \n...                                                 ...   \n6118  And on Sunday, about 150 people came to the To...   \n6119  Sultana was 17 years old and, according to his...   \n6120  If used, for example, the'calculus' - the pape...   \n6121  Of course, that Darling will not support the m...   \n6122  The last European, first on the third Emel Der...   \n\n                                              reference  year     score  \n0     Last Olympics, Gabby Douglas was a surprise Ol...  2017 -0.356171  \n1     I also think the film shows we have a great se...  2017  0.782293  \n3     But, regardless, Fiji on this form would have ...  2017  0.241079  \n4     The first day back at school is traditionally ...  2015  0.049910  \n5     The most common Olympic vector is straight ahead.  2017 -0.290765  \n...                                                 ...   ...       ...  \n6118  And on Sunday in Cardiff, around 150 people ca...  2015  0.206902  \n6119  Sultana was 17 years old and, according to her...  2017  0.788480  \n6120  \"Calculus\" is selling for $93.49 used on Chegg...  2015 -0.648367  \n6121  Of course, Darling will not support the mandat...  2015  0.868201  \n6122  In the latest European Championships, third pl...  2017 -0.244928  \n\n[5785 rows x 4 columns]",
      "text/html": "<div>\n<style scoped>\n    .dataframe tbody tr th:only-of-type {\n        vertical-align: middle;\n    }\n\n    .dataframe tbody tr th {\n        vertical-align: top;\n    }\n\n    .dataframe thead th {\n        text-align: right;\n    }\n</style>\n<table border=\"1\" class=\"dataframe\">\n  <thead>\n    <tr style=\"text-align: right;\">\n      <th></th>\n      <th>candidate</th>\n      <th>reference</th>\n      <th>year</th>\n      <th>score</th>\n    </tr>\n  </thead>\n  <tbody>\n    <tr>\n      <th>0</th>\n      <td>In previous Olympic games, Gaby Duglasa became...</td>\n      <td>Last Olympics, Gabby Douglas was a surprise Ol...</td>\n      <td>2017</td>\n      <td>-0.356171</td>\n    </tr>\n    <tr>\n      <th>1</th>\n      <td>I also think that the film shows that we have ...</td>\n      <td>I also think the film shows we have a great se...</td>\n      <td>2017</td>\n      <td>0.782293</td>\n    </tr>\n    <tr>\n      <th>3</th>\n      <td>But, regardless, Fiji would have beaten a 15-m...</td>\n      <td>But, regardless, Fiji on this form would have ...</td>\n      <td>2017</td>\n      <td>0.241079</td>\n    </tr>\n    <tr>\n      <th>4</th>\n      <td>The first day of the new school year, is tradi...</td>\n      <td>The first day back at school is traditionally ...</td>\n      <td>2015</td>\n      <td>0.049910</td>\n    </tr>\n    <tr>\n      <th>5</th>\n      <td>The usual trajectory of the Olympic railway is...</td>\n      <td>The most common Olympic vector is straight ahead.</td>\n      <td>2017</td>\n      <td>-0.290765</td>\n    </tr>\n    <tr>\n      <th>...</th>\n      <td>...</td>\n      <td>...</td>\n      <td>...</td>\n      <td>...</td>\n    </tr>\n    <tr>\n      <th>6118</th>\n      <td>And on Sunday, about 150 people came to the To...</td>\n      <td>And on Sunday in Cardiff, around 150 people ca...</td>\n      <td>2015</td>\n      <td>0.206902</td>\n    </tr>\n    <tr>\n      <th>6119</th>\n      <td>Sultana was 17 years old and, according to his...</td>\n      <td>Sultana was 17 years old and, according to her...</td>\n      <td>2017</td>\n      <td>0.788480</td>\n    </tr>\n    <tr>\n      <th>6120</th>\n      <td>If used, for example, the'calculus' - the pape...</td>\n      <td>\"Calculus\" is selling for $93.49 used on Chegg...</td>\n      <td>2015</td>\n      <td>-0.648367</td>\n    </tr>\n    <tr>\n      <th>6121</th>\n      <td>Of course, that Darling will not support the m...</td>\n      <td>Of course, Darling will not support the mandat...</td>\n      <td>2015</td>\n      <td>0.868201</td>\n    </tr>\n    <tr>\n      <th>6122</th>\n      <td>The last European, first on the third Emel Der...</td>\n      <td>In the latest European Championships, third pl...</td>\n      <td>2017</td>\n      <td>-0.244928</td>\n    </tr>\n  </tbody>\n</table>\n<p>5785 rows × 4 columns</p>\n</div>"
     },
     "execution_count": 19,
     "metadata": {},
     "output_type": "execute_result"
    }
   ],
   "source": [
    "## Load bleurt or custom preprocess WMT data\n",
    "import pandas as pd\n",
    "\n",
    "load_path = \"bleurtMaster/wmt_data/\"\n",
    "wmt_train = pd.read_json(load_path + 'train_ratings.json', lines=True)\n",
    "wmt_test = pd.read_json(load_path + 'test_ratings.json', lines=True)\n",
    "wmt_dev = pd.read_json(load_path + 'dev_ratings.json', lines=True)\n",
    "#load_path = \"wmt_21_22_augmented/\"\n",
    "#wmt_train = pd.read_json(load_path + \"train.json\", lines=True)\n",
    "#wmt_test = pd.read_json(load_path + \"test.json\", lines=True)\n",
    "#wmt_dev = pd.read_json(load_path + \"eval.json\", lines=True)\n",
    "num_tr = len(wmt_train)\n",
    "num_dev = len(wmt_dev)\n",
    "num_test = len(wmt_test)\n",
    "print(num_tr, num_test, num_dev)\n",
    "wmt_data = pd.concat([wmt_dev, wmt_train, wmt_test]).sample(frac=1).reset_index(drop=True)\n",
    "wmt_data = wmt_data[wmt_data.score >= -1].copy()\n",
    "wmt_data.drop(columns=['source', 'n_ratings', 'system', 'segment_id', 'raw_rating', 'lang'], inplace=True)\n",
    "wmt_data"
   ],
   "metadata": {
    "collapsed": false,
    "pycharm": {
     "name": "#%%\n"
    }
   }
  },
  {
   "cell_type": "code",
   "execution_count": 6,
   "outputs": [
    {
     "data": {
      "text/plain": "                                              candidate  \\\n0     „ the voice in a head said me before ‚ he will...   \n1     A \" general meeting no problem was with it whe...   \n2     \"A restaurateur should be meticulous, patient ...   \n3     \"Although at least some growth is better than ...   \n4     \"For tourism in general, LGBT clients are very...   \n...                                                 ...   \n9259  Zhan Qixian believes that so long as today als...   \n9260  Xiamen xiangan district Park East of the villa...   \n9261  Zhang Huizhen talked about her gold medal afte...   \n9262  Zhang Xiaolong told reporters that his daughte...   \n9263  The next step will continue to promote the ref...   \n\n                                              reference  year     score  \n0     \"A little voice inside me said, 'You're going ...  2015 -0.630735  \n1     \"A plenary session was held, at which no one h...  2015 -0.709421  \n2     \"A restorer has to be diligent, patient and no...  2017 -1.288860  \n3     \"Although some growth is better than no growth...  2015  0.233937  \n4     \"As tourists, the LGBT clientele is very lucra...  2017  0.739368  \n...                                                 ...   ...       ...  \n9259  Zhan Qixian said that, as long as there are pa...  2017 -0.665855  \n9260  Zhang Donghong, a villager of the East Park Vi...  2017 -0.416351  \n9261  Zhang Huizhen talked about his gold winning af...  2017 -0.351795  \n9262  Zhang Xiaolong told reporters that her daughte...  2017  0.032072  \n9263  Zhu Baoping, deputy director of the Jiangsu Pr...  2017 -0.064684  \n\n[9264 rows x 4 columns]",
      "text/html": "<div>\n<style scoped>\n    .dataframe tbody tr th:only-of-type {\n        vertical-align: middle;\n    }\n\n    .dataframe tbody tr th {\n        vertical-align: top;\n    }\n\n    .dataframe thead th {\n        text-align: right;\n    }\n</style>\n<table border=\"1\" class=\"dataframe\">\n  <thead>\n    <tr style=\"text-align: right;\">\n      <th></th>\n      <th>candidate</th>\n      <th>reference</th>\n      <th>year</th>\n      <th>score</th>\n    </tr>\n  </thead>\n  <tbody>\n    <tr>\n      <th>0</th>\n      <td>„ the voice in a head said me before ‚ he will...</td>\n      <td>\"A little voice inside me said, 'You're going ...</td>\n      <td>2015</td>\n      <td>-0.630735</td>\n    </tr>\n    <tr>\n      <th>1</th>\n      <td>A \" general meeting no problem was with it whe...</td>\n      <td>\"A plenary session was held, at which no one h...</td>\n      <td>2015</td>\n      <td>-0.709421</td>\n    </tr>\n    <tr>\n      <th>2</th>\n      <td>\"A restaurateur should be meticulous, patient ...</td>\n      <td>\"A restorer has to be diligent, patient and no...</td>\n      <td>2017</td>\n      <td>-1.288860</td>\n    </tr>\n    <tr>\n      <th>3</th>\n      <td>\"Although at least some growth is better than ...</td>\n      <td>\"Although some growth is better than no growth...</td>\n      <td>2015</td>\n      <td>0.233937</td>\n    </tr>\n    <tr>\n      <th>4</th>\n      <td>\"For tourism in general, LGBT clients are very...</td>\n      <td>\"As tourists, the LGBT clientele is very lucra...</td>\n      <td>2017</td>\n      <td>0.739368</td>\n    </tr>\n    <tr>\n      <th>...</th>\n      <td>...</td>\n      <td>...</td>\n      <td>...</td>\n      <td>...</td>\n    </tr>\n    <tr>\n      <th>9259</th>\n      <td>Zhan Qixian believes that so long as today als...</td>\n      <td>Zhan Qixian said that, as long as there are pa...</td>\n      <td>2017</td>\n      <td>-0.665855</td>\n    </tr>\n    <tr>\n      <th>9260</th>\n      <td>Xiamen xiangan district Park East of the villa...</td>\n      <td>Zhang Donghong, a villager of the East Park Vi...</td>\n      <td>2017</td>\n      <td>-0.416351</td>\n    </tr>\n    <tr>\n      <th>9261</th>\n      <td>Zhang Huizhen talked about her gold medal afte...</td>\n      <td>Zhang Huizhen talked about his gold winning af...</td>\n      <td>2017</td>\n      <td>-0.351795</td>\n    </tr>\n    <tr>\n      <th>9262</th>\n      <td>Zhang Xiaolong told reporters that his daughte...</td>\n      <td>Zhang Xiaolong told reporters that her daughte...</td>\n      <td>2017</td>\n      <td>0.032072</td>\n    </tr>\n    <tr>\n      <th>9263</th>\n      <td>The next step will continue to promote the ref...</td>\n      <td>Zhu Baoping, deputy director of the Jiangsu Pr...</td>\n      <td>2017</td>\n      <td>-0.064684</td>\n    </tr>\n  </tbody>\n</table>\n<p>9264 rows × 4 columns</p>\n</div>"
     },
     "execution_count": 6,
     "metadata": {},
     "output_type": "execute_result"
    }
   ],
   "source": [
    "# BLEURT wmt db builder\n",
    "import pandas as pd\n",
    "\n",
    "wmt_data = pd.read_json(\"bleurtMaster/wmt_data/wmt_15-17.jsonl\", lines=True)\n",
    "wmt_data = wmt_data[wmt_data.lang.str.endswith('en')]\n",
    "wmt_data.drop(columns=['source', 'n_ratings', 'system', 'segment_id', 'raw_rating', 'lang'], inplace=True)\n",
    "wmt_data"
   ],
   "metadata": {
    "collapsed": false,
    "pycharm": {
     "name": "#%%\n"
    }
   }
  },
  {
   "cell_type": "code",
   "execution_count": 18,
   "outputs": [
    {
     "data": {
      "text/plain": "                                                candidate  \\\n0       Xinhua Commentary: Making Excellent Returning ...   \n1              Talent is the key to rural revitalization.   \n2                                Where can I find talent?   \n3       The group of outstanding returning migrant wor...   \n4                         Hai Chunzuo, Xinhua News Agency   \n...                                                   ...   \n219983   It also replaced red meat with fish and seafood.   \n219984  Prefers vegetables (except potatoes), whole gr...   \n219985  Gagarin is also active in the gym, yoga and ru...   \n219986  Earlier, Russian singer Sergei Lazarev told ho...   \n219987  According to the artist, he adjusted his diet ...   \n\n                                                reference     score  year  \n0       Xinhua Commentary: Outstanding returning rural... -0.086212  2022  \n1              Talent is the key to rural revitalization.  0.244415  2022  \n2                                  Where is talent found? -0.995434  2022  \n3       Outstanding returning rural migrant workers ar...  0.409728  2022  \n4       Published by Xinhua News Agency Author: Shang ...  0.492384  2022  \n...                                                   ...       ...   ...  \n219983  She also replaced red meat with fish and seafood. -0.650321  2022  \n219984  She favors vegetables (besides potatoes), whol...  0.356726  2022  \n219985  Gagarina also actively works out in the gym, d... -0.197150  2022  \n219986  Earlier, Russian singer Sergey Lazarev told ho... -0.448912  2022  \n219987  The artist said he corrected his diet and took... -0.247502  2022  \n\n[107261 rows x 4 columns]",
      "text/html": "<div>\n<style scoped>\n    .dataframe tbody tr th:only-of-type {\n        vertical-align: middle;\n    }\n\n    .dataframe tbody tr th {\n        vertical-align: top;\n    }\n\n    .dataframe thead th {\n        text-align: right;\n    }\n</style>\n<table border=\"1\" class=\"dataframe\">\n  <thead>\n    <tr style=\"text-align: right;\">\n      <th></th>\n      <th>candidate</th>\n      <th>reference</th>\n      <th>score</th>\n      <th>year</th>\n    </tr>\n  </thead>\n  <tbody>\n    <tr>\n      <th>0</th>\n      <td>Xinhua Commentary: Making Excellent Returning ...</td>\n      <td>Xinhua Commentary: Outstanding returning rural...</td>\n      <td>-0.086212</td>\n      <td>2022</td>\n    </tr>\n    <tr>\n      <th>1</th>\n      <td>Talent is the key to rural revitalization.</td>\n      <td>Talent is the key to rural revitalization.</td>\n      <td>0.244415</td>\n      <td>2022</td>\n    </tr>\n    <tr>\n      <th>2</th>\n      <td>Where can I find talent?</td>\n      <td>Where is talent found?</td>\n      <td>-0.995434</td>\n      <td>2022</td>\n    </tr>\n    <tr>\n      <th>3</th>\n      <td>The group of outstanding returning migrant wor...</td>\n      <td>Outstanding returning rural migrant workers ar...</td>\n      <td>0.409728</td>\n      <td>2022</td>\n    </tr>\n    <tr>\n      <th>4</th>\n      <td>Hai Chunzuo, Xinhua News Agency</td>\n      <td>Published by Xinhua News Agency Author: Shang ...</td>\n      <td>0.492384</td>\n      <td>2022</td>\n    </tr>\n    <tr>\n      <th>...</th>\n      <td>...</td>\n      <td>...</td>\n      <td>...</td>\n      <td>...</td>\n    </tr>\n    <tr>\n      <th>219983</th>\n      <td>It also replaced red meat with fish and seafood.</td>\n      <td>She also replaced red meat with fish and seafood.</td>\n      <td>-0.650321</td>\n      <td>2022</td>\n    </tr>\n    <tr>\n      <th>219984</th>\n      <td>Prefers vegetables (except potatoes), whole gr...</td>\n      <td>She favors vegetables (besides potatoes), whol...</td>\n      <td>0.356726</td>\n      <td>2022</td>\n    </tr>\n    <tr>\n      <th>219985</th>\n      <td>Gagarin is also active in the gym, yoga and ru...</td>\n      <td>Gagarina also actively works out in the gym, d...</td>\n      <td>-0.197150</td>\n      <td>2022</td>\n    </tr>\n    <tr>\n      <th>219986</th>\n      <td>Earlier, Russian singer Sergei Lazarev told ho...</td>\n      <td>Earlier, Russian singer Sergey Lazarev told ho...</td>\n      <td>-0.448912</td>\n      <td>2022</td>\n    </tr>\n    <tr>\n      <th>219987</th>\n      <td>According to the artist, he adjusted his diet ...</td>\n      <td>The artist said he corrected his diet and took...</td>\n      <td>-0.247502</td>\n      <td>2022</td>\n    </tr>\n  </tbody>\n</table>\n<p>107261 rows × 4 columns</p>\n</div>"
     },
     "execution_count": 18,
     "metadata": {},
     "output_type": "execute_result"
    }
   ],
   "source": [
    "## Load WMT from homepage download\n",
    "def load_and_rename_data(filename:str, year:int) -> pd.DataFrame:\n",
    "    dat = pd.read_csv(filename)\n",
    "    dat = dat[dat.lp.str.endswith('en')]\n",
    "    dat.drop(['src', 'raw', 'annotators', 'domain', 'lp'], inplace=True, axis=1)\n",
    "    dat.rename(columns={'ref': 'reference', 'mt':'candidate'}, inplace=True)\n",
    "    dat['year'] = year\n",
    "    return dat\n",
    "\n",
    "wmt_data = load_and_rename_data('wmt_data/2021-da.csv', 2022)\n",
    "wmt_data"
   ],
   "metadata": {
    "collapsed": false,
    "pycharm": {
     "name": "#%%\n"
    }
   }
  },
  {
   "cell_type": "code",
   "execution_count": 7,
   "outputs": [
    {
     "data": {
      "text/plain": "                                               reference  \\\n0      Hopefully, the director James Cox can turn the...   \n1      The Model T would be started on an alternator ...   \n2      However, such a relationship is no longer wide...   \n3      For example, despite bilingual-education laws,...   \n4      The front facade involves an already-found Ion...   \n...                                                  ...   \n68775                  Everything wasn't good and tasty!   \n68776  From homicides alone, roughly 150,000 people d...   \n68777  The Oerlikon GDF Mk.5 35mm gun is currently in...   \n68778  The discovery of Williams's alterations and fo...   \n68779            The building was vacant since May 2001.   \n\n                                               candidate  score year  \n0      If James Cox can turn the short into a feature...      1  neg  \n1      The Model T would be started on battery but th...      0  neg  \n2      However, such a relationship is widely accepte...      0  neg  \n3      Despite bilingual education laws, the use of S...      1  neg  \n4      The front facade features a monumental Ionic o...      0  neg  \n...                                                  ...    ...  ...  \n68775                     Everything was good and tasty!      0  neg  \n68776  From all causes, roughly 150,000 people die ar...      0  neg  \n68777  Regiment Oos Transvaal is currently equipped w...      1  neg  \n68778  The discovery of Williams's alterations and fo...      0  neg  \n68779          The building was occupied since May 2001.      0  neg  \n\n[68780 rows x 4 columns]",
      "text/html": "<div>\n<style scoped>\n    .dataframe tbody tr th:only-of-type {\n        vertical-align: middle;\n    }\n\n    .dataframe tbody tr th {\n        vertical-align: top;\n    }\n\n    .dataframe thead th {\n        text-align: right;\n    }\n</style>\n<table border=\"1\" class=\"dataframe\">\n  <thead>\n    <tr style=\"text-align: right;\">\n      <th></th>\n      <th>reference</th>\n      <th>candidate</th>\n      <th>score</th>\n      <th>year</th>\n    </tr>\n  </thead>\n  <tbody>\n    <tr>\n      <th>0</th>\n      <td>Hopefully, the director James Cox can turn the...</td>\n      <td>If James Cox can turn the short into a feature...</td>\n      <td>1</td>\n      <td>neg</td>\n    </tr>\n    <tr>\n      <th>1</th>\n      <td>The Model T would be started on an alternator ...</td>\n      <td>The Model T would be started on battery but th...</td>\n      <td>0</td>\n      <td>neg</td>\n    </tr>\n    <tr>\n      <th>2</th>\n      <td>However, such a relationship is no longer wide...</td>\n      <td>However, such a relationship is widely accepte...</td>\n      <td>0</td>\n      <td>neg</td>\n    </tr>\n    <tr>\n      <th>3</th>\n      <td>For example, despite bilingual-education laws,...</td>\n      <td>Despite bilingual education laws, the use of S...</td>\n      <td>1</td>\n      <td>neg</td>\n    </tr>\n    <tr>\n      <th>4</th>\n      <td>The front facade involves an already-found Ion...</td>\n      <td>The front facade features a monumental Ionic o...</td>\n      <td>0</td>\n      <td>neg</td>\n    </tr>\n    <tr>\n      <th>...</th>\n      <td>...</td>\n      <td>...</td>\n      <td>...</td>\n      <td>...</td>\n    </tr>\n    <tr>\n      <th>68775</th>\n      <td>Everything wasn't good and tasty!</td>\n      <td>Everything was good and tasty!</td>\n      <td>0</td>\n      <td>neg</td>\n    </tr>\n    <tr>\n      <th>68776</th>\n      <td>From homicides alone, roughly 150,000 people d...</td>\n      <td>From all causes, roughly 150,000 people die ar...</td>\n      <td>0</td>\n      <td>neg</td>\n    </tr>\n    <tr>\n      <th>68777</th>\n      <td>The Oerlikon GDF Mk.5 35mm gun is currently in...</td>\n      <td>Regiment Oos Transvaal is currently equipped w...</td>\n      <td>1</td>\n      <td>neg</td>\n    </tr>\n    <tr>\n      <th>68778</th>\n      <td>The discovery of Williams's alterations and fo...</td>\n      <td>The discovery of Williams's alterations and fo...</td>\n      <td>0</td>\n      <td>neg</td>\n    </tr>\n    <tr>\n      <th>68779</th>\n      <td>The building was vacant since May 2001.</td>\n      <td>The building was occupied since May 2001.</td>\n      <td>0</td>\n      <td>neg</td>\n    </tr>\n  </tbody>\n</table>\n<p>68780 rows × 4 columns</p>\n</div>"
     },
     "execution_count": 7,
     "metadata": {},
     "output_type": "execute_result"
    }
   ],
   "source": [
    "#neg_data = pd.read_csv('Guided Research WS22/data/negation_dataset_v1.1.tsv', sep='\\t') # with antonym data\n",
    "neg_data = pd.read_csv('Guided Research WS22/data/negation_dataset_labeled.tsv', sep='\\t') # without antonym data\n",
    "neg_data = neg_data.replace({0:1, 1:0}) # original data has target negated, but we need quality estimation\n",
    "neg_data.rename(columns={'premise':'reference', 'hypothesis':'candidate', 'label':'score'}, inplace=True)\n",
    "neg_data['year'] = ['neg'] * len(neg_data)\n",
    "neg_data"
   ],
   "metadata": {
    "collapsed": false,
    "pycharm": {
     "name": "#%%\n"
    }
   }
  },
  {
   "cell_type": "code",
   "execution_count": 8,
   "outputs": [],
   "source": [
    "# Split data into train, eval and test\n",
    "from sklearn.model_selection import train_test_split\n",
    "\n",
    "def train_eval_test_split(all_data:pd.DataFrame) -> (pd.DataFrame, pd.DataFrame, pd.DataFrame):\n",
    "    all_train, all_tmp = train_test_split(all_data, train_size=.8)\n",
    "    all_test, all_eval = train_test_split(all_tmp, train_size=.5)\n",
    "    return all_train, all_eval, all_test\n",
    "\n",
    "neg_train, neg_eval, neg_test = train_eval_test_split(neg_data)\n",
    "wmt_train, wmt_eval, wmt_test = train_eval_test_split(wmt_data)"
   ],
   "metadata": {
    "collapsed": false,
    "pycharm": {
     "name": "#%%\n"
    }
   }
  },
  {
   "cell_type": "code",
   "execution_count": 10,
   "outputs": [],
   "source": [
    "save_path = 'wmt_negation_data/'\n",
    "\n",
    "def combine_and_write(wmt_df, neg_df, filename):\n",
    "    wmt_df = pd.concat([wmt_df, neg_df]).sample(frac=1).reset_index(drop=True)\n",
    "    wmt_df.to_csv(save_path+filename+'.tsv', sep='\\t')\n",
    "    wmt_df.to_json(save_path+filename+'.json', lines=True, orient='records')\n",
    "\n",
    "combine_and_write(wmt_train, neg_train, 'wmt_neg_train')\n",
    "combine_and_write(wmt_eval, neg_eval, 'wmt_neg_eval')\n",
    "combine_and_write(wmt_test, neg_test, 'wmt_neg_test')"
   ],
   "metadata": {
    "collapsed": false,
    "pycharm": {
     "name": "#%%\n"
    }
   }
  },
  {
   "cell_type": "code",
   "execution_count": 8,
   "outputs": [
    {
     "name": "stdout",
     "output_type": "stream",
     "text": [
      "      lang                                          candidate  \\\n",
      "0      NaN  Branches allow for parts of software to be dev...   \n",
      "1      NaN                                 He is unavailable.   \n",
      "2      NaN  Gutman attended Newark Academy, where he was u...   \n",
      "3      NaN  He graduated from New York University School o...   \n",
      "4      NaN  Some authors have compared the Kirtimukha myth...   \n",
      "...    ...                                                ...   \n",
      "83156  NaN  In some cases, such as Kenya, this has led to ...   \n",
      "83157  NaN  The hospital was later used by the American fo...   \n",
      "83158  NaN  This provided a major improvement in the fidel...   \n",
      "83159  NaN  In the second quarter of 1983, Llanidloes was ...   \n",
      "83160  NaN  Potentially mineable resources include granite...   \n",
      "\n",
      "                                               reference source  year  \\\n",
      "0      Parts of the software can be developed in para...    NaN   NaN   \n",
      "1                                   He is not available.    NaN   NaN   \n",
      "2      Gutman attended Newark Academy, where he was h...    NaN   NaN   \n",
      "3      He failed to graduate from New York University...    NaN   NaN   \n",
      "4      All the authors have avoided comparing the Kir...    NaN   NaN   \n",
      "...                                                  ...    ...   ...   \n",
      "83156  In all cases, such as Kenya, this has led only...    NaN   NaN   \n",
      "83157  The latter was later used as a hospital by the...    NaN   NaN   \n",
      "83158  This caused a major backlash in the fidelity o...    NaN   NaN   \n",
      "83159  However, Llanidloes was closed early - in the ...    NaN   NaN   \n",
      "83160  Potentially mineable resources include granite...    NaN   NaN   \n",
      "\n",
      "       n_ratings system  segment_id  raw_rating  score  \n",
      "0            NaN    NaN         NaN         NaN    1.0  \n",
      "1            NaN    NaN         NaN         NaN    1.0  \n",
      "2            NaN    NaN         NaN         NaN    0.0  \n",
      "3            NaN    NaN         NaN         NaN    0.0  \n",
      "4            NaN    NaN         NaN         NaN    0.0  \n",
      "...          ...    ...         ...         ...    ...  \n",
      "83156        NaN    NaN         NaN         NaN    0.0  \n",
      "83157        NaN    NaN         NaN         NaN    1.0  \n",
      "83158        NaN    NaN         NaN         NaN    0.0  \n",
      "83159        NaN    NaN         NaN         NaN    1.0  \n",
      "83160        NaN    NaN         NaN         NaN    0.0  \n",
      "\n",
      "[83161 rows x 10 columns]\n"
     ]
    }
   ],
   "source": [
    "def combine_and_write(wmt_df, neg_df, filename):\n",
    "    wmt_df = pd.concat([wmt_df[(wmt_df.score > -1)], neg_df]).sample(frac=1).reset_index(drop=True)\n",
    "    #wmt_df = pd.concat([wmt_df[(wmt_df.score > -1) & (wmt_df.score < 1)], neg_df]).sample(frac=1).reset_index(drop=True)\n",
    "    #wmt_df.dropna(inplace=True)\n",
    "    print(wmt_df)\n",
    "    #wmt_df.to_json('bleurtMaster/wmt_data/'+filename, lines=True, orient='records')\n",
    "    #wmt_df.to_json(save_path+filename, lines=True, orient='records')\n",
    "    wmt_df.to_csv(save_path+filename, sep='\\t')\n",
    "\n",
    "combine_and_write(pd.concat([wmt_train, wmt_test, wmt_dev]), neg_data, 'train_neg_0_antonym_full.tsv')\n",
    "#combine_and_write(wmt_train, neg_train, 'train_neg_0_antonym_full.json')\n",
    "#combine_and_write(wmt_test, neg_test, 'test_neg_0_antonym_full.json')\n",
    "#combine_and_write(wmt_dev, neg_dev, 'eval_neg_0_antonym_full.json')\n",
    "#combine_and_write(wmt_train, neg_train, 'train_ratings_neg_-1_w_empty.json')\n",
    "#combine_and_write(wmt_test, neg_test, 'test_ratings_neg_-1.json')\n",
    "#combine_and_write(wmt_dev, neg_dev, 'dev_ratings_neg_-1.json')"
   ],
   "metadata": {
    "collapsed": false,
    "pycharm": {
     "name": "#%%\n"
    }
   }
  },
  {
   "cell_type": "code",
   "execution_count": 6,
   "outputs": [
    {
     "name": "stdout",
     "output_type": "stream",
     "text": [
      "55024 7411 62435 0.8813005525746777 0.11869944742532233\n",
      "6878 926 7804 0.8813429010763711 0.11865709892362891\n"
     ]
    }
   ],
   "source": [
    "import pandas as pd\n",
    "\n",
    "def ratio_in_split(split):\n",
    "    d = pd.read_csv(f\"wmt_negation_data/wmt_neg_{split}.tsv\", sep='\\t')\n",
    "    num_neg = len(d[d.year.str.contains(\"neg\")])\n",
    "    num_wmt = len(d[d.year.str.contains('20')])\n",
    "    num_all = len(d)\n",
    "    print(num_neg, num_wmt,num_all, num_neg/num_all, num_wmt/num_all)\n",
    "ratio_in_split(\"train\")\n",
    "ratio_in_split(\"test\")"
   ],
   "metadata": {
    "collapsed": false,
    "pycharm": {
     "name": "#%%\n"
    }
   }
  }
 ],
 "metadata": {
  "kernelspec": {
   "display_name": "Python 3",
   "language": "python",
   "name": "python3"
  },
  "language_info": {
   "codemirror_mode": {
    "name": "ipython",
    "version": 2
   },
   "file_extension": ".py",
   "mimetype": "text/x-python",
   "name": "python",
   "nbconvert_exporter": "python",
   "pygments_lexer": "ipython2",
   "version": "2.7.6"
  }
 },
 "nbformat": 4,
 "nbformat_minor": 0
}